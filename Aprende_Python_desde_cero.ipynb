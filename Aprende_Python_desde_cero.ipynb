{
  "nbformat": 4,
  "nbformat_minor": 0,
  "metadata": {
    "colab": {
      "provenance": [],
      "authorship_tag": "ABX9TyN/YMIryKZ2yYfplJeEmHfp",
      "include_colab_link": true
    },
    "kernelspec": {
      "name": "python3",
      "display_name": "Python 3"
    },
    "language_info": {
      "name": "python"
    }
  },
  "cells": [
    {
      "cell_type": "markdown",
      "metadata": {
        "id": "view-in-github",
        "colab_type": "text"
      },
      "source": [
        "<a href=\"https://colab.research.google.com/github/norbertodp/Aprenda-Python-desde-cero/blob/main/Aprende_Python_desde_cero.ipynb\" target=\"_parent\"><img src=\"https://colab.research.google.com/assets/colab-badge.svg\" alt=\"Open In Colab\"/></a>"
      ]
    },
    {
      "cell_type": "code",
      "source": [
        "import pandas as pd\n",
        "import numpy as np\n",
        "import matplotlib.pyplot as plt\n",
        "import seaborn as sns"
      ],
      "metadata": {
        "id": "ORGzvhc8jEqy"
      },
      "execution_count": null,
      "outputs": []
    },
    {
      "cell_type": "markdown",
      "source": [
        "## **Modulo 1 Principios Basicos**:"
      ],
      "metadata": {
        "id": "vn2UUR-32-3P"
      }
    },
    {
      "cell_type": "code",
      "execution_count": null,
      "metadata": {
        "colab": {
          "base_uri": "https://localhost:8080/"
        },
        "id": "Sq27kCy6hvzB",
        "outputId": "856cfc17-7d02-43f3-e428-99a79a623c85"
      },
      "outputs": [
        {
          "output_type": "stream",
          "name": "stdout",
          "text": [
            "datos de la primera persona\n",
            "ingrese nombre del producto 1: arroz\n",
            "ingrese precio: 100\n",
            "ingrese nombre del producto 2: lentejas\n",
            "ingrese precio: 200\n",
            "resultados del producto arroz. y del producto lentejas. :\n",
            "El precio del primer valor es mayor o igual a el precio del segundo valor\n",
            "False\n",
            "La suma de los dos prodcutos es:300\n"
          ]
        }
      ],
      "source": [
        "# 1. Variables y operadores\n",
        "\n",
        "print (\"datos de la primera persona\")\n",
        "\n",
        "nombre1=input(\"ingrese nombre del producto 1: \")\n",
        "precio1=int(input(\"ingrese precio: \"))\n",
        "nombre2=input(\"ingrese nombre del producto 2: \")\n",
        "precio2=int(input(\"ingrese precio: \"))\n",
        "\n",
        "bonificacion=20\n",
        "\n",
        "precio_compra_total = precio1 + precio2\n",
        "comparar = precio1 >= precio2\n",
        "logico=(precio1<precio2 and precio1==precio2)\n",
        "\n",
        "cabecera=\"resultados del producto {0}. y del producto {1}. :\" # Funcion para concatenar facilmente\n",
        "\n",
        "print(cabecera.format(nombre1,nombre2))\n",
        "print(\"El precio del primer valor es mayor o igual a el precio del segundo valor\")\n",
        "print(comparar)\n",
        "print(\"La suma de los dos prodcutos es:\" + str(precio_compra_total))\n",
        "\n",
        "\n"
      ]
    },
    {
      "cell_type": "code",
      "source": [
        "# 2. Condicionales\n",
        "\n",
        "sueldo=int(input(\"ingrese sueldo: \"))\n",
        "\n",
        "if sueldo>3000:\n",
        "    print(\"el usuario debe pagar un % de impuestos\")\n",
        "if sueldo<=3000:\n",
        "    print(\"el usuario no debe pagar impuestos\")\n",
        "if sueldo>6000 and sueldo<10000:\n",
        "    print(\"el usuario debe pagar una bonificacion de 1000 euros\")\n",
        "\n",
        "\n",
        "sueldo1=int(input(\"ingrese sueldo1: \"))\n",
        "sueldo2=int(input(\"ingrese sueldo2: \"))\n",
        "\n",
        "\n",
        "if sueldo1>sueldo2:\n",
        "    print(\"el sueldo1 :\" + str(sueldo1) + \" es mayor que el sueldo 2 \" + str(sueldo2))\n",
        "elif sueldo1<=3000:\n",
        "    print(\"el sueldo1 :\" + str(sueldo1) + \" es menor que el sueldo 2 \" + str(sueldo2))\n",
        "\n",
        "\n",
        "\n"
      ],
      "metadata": {
        "colab": {
          "base_uri": "https://localhost:8080/"
        },
        "id": "2HKgdlNypRMF",
        "outputId": "cfd09bb8-5447-4afd-bd5d-e0ffc55f97bc"
      },
      "execution_count": null,
      "outputs": [
        {
          "output_type": "stream",
          "name": "stdout",
          "text": [
            "ingrese sueldo: 3000\n",
            "el usuario no debe pagar impuestos\n",
            "ingrese sueldo1: 2000\n",
            "ingrese sueldo2: 4000\n",
            "el sueldo1 :2000 es menor que el sueldo 2 4000\n"
          ]
        }
      ]
    },
    {
      "cell_type": "code",
      "source": [
        "# 3. Condicionales anidadas\n",
        "\n",
        "nota1=int(input(\"ingrese nota1: \"))\n",
        "nota2=int(input(\"ingrese nota2: \"))\n",
        "nota3=int(input(\"ingrese nota3: \"))\n",
        "prom=(nota1+nota2+nota3)/3\n",
        "\n",
        "if prom>=4 and prom<=5:\n",
        "  print(\"aprobado\")\n",
        "else:\n",
        "  if prom>=3 and prom<=4:\n",
        "    print(\"regular\")\n",
        "  else:\n",
        "    print(\"reprobado\")\n",
        "\n",
        "\n",
        "\n",
        "\n"
      ],
      "metadata": {
        "colab": {
          "base_uri": "https://localhost:8080/"
        },
        "id": "qkIL4TxPriuy",
        "outputId": "3d2f015c-ec7f-448f-f982-f9419c102ec7"
      },
      "execution_count": null,
      "outputs": [
        {
          "output_type": "stream",
          "name": "stdout",
          "text": [
            "ingrese nota1: 2\n",
            "ingrese nota2: 2\n",
            "ingrese nota3: 2\n",
            "reprobado\n"
          ]
        }
      ]
    },
    {
      "cell_type": "code",
      "source": [
        "# 4. Bucle while\n",
        "\n",
        "x=1\n",
        "suma=0\n",
        "while x<=5:\n",
        "    valor=int(input(\"Ingrese un valor:\"))\n",
        "    suma=suma+valor\n",
        "    x=x+1\n",
        "promedio=suma/5\n",
        "print(\"La suma de los 5 valores es\")\n",
        "print(suma)\n",
        "print(\"El promedio es\")\n",
        "print(promedio)\n",
        "\n",
        "\n",
        "#ejercicio 2\n",
        "cantidad=0\n",
        "x=1\n",
        "n=int(input(\"Cuantas piezas cargara:\"))\n",
        "while x<=n:\n",
        "    largo=float(input(\"Ingrese la medida de la pieza:\"))\n",
        "    if largo>=1.2 and largo<=1.3:\n",
        "        cantidad=cantidad+1\n",
        "    x=x+1\n",
        "print(\"La cantidad de piezas aptas son\")\n",
        "print(cantidad)\n",
        "\n",
        "\n",
        "\n"
      ],
      "metadata": {
        "colab": {
          "base_uri": "https://localhost:8080/"
        },
        "id": "UkRuKh_ItsM8",
        "outputId": "7ffac5aa-37e5-4b26-e061-68447f54f664"
      },
      "execution_count": null,
      "outputs": [
        {
          "output_type": "stream",
          "name": "stdout",
          "text": [
            "Ingrese un valor:100\n",
            "Ingrese un valor:200\n",
            "Ingrese un valor:300\n",
            "Ingrese un valor:400\n",
            "Ingrese un valor:500\n",
            "La suma de los 5 valores es\n",
            "1500\n",
            "El promedio es\n",
            "300.0\n",
            "Cuantas piezas cargara:3\n",
            "Ingrese la medida de la pieza:1.2\n",
            "Ingrese la medida de la pieza:1.3\n",
            "Ingrese la medida de la pieza:2\n",
            "La cantidad de piezas aptas son\n",
            "2\n"
          ]
        }
      ]
    },
    {
      "cell_type": "code",
      "source": [
        "# 5. Bucle for\n",
        "\n",
        "# Realizar un programa que imprima en pantalla los números del 20 al 30.\n",
        "for x in range(20,31): # Sin indicar cuanto debe aumentar\n",
        "    print(x)\n",
        "\n",
        "for y in range (20,30,+2):# Indicando que aumente de 2 en 2 hasta llegar a 30\n",
        "    print(y)\n",
        "    '''La función range puede tener dos parámetros, el primero indica el valor inicial que tomará la variable x,\n",
        "    cada vuelta del for la variable x toma el valor siguiente hasta llegar al valor indicado por el segundo parámetro\n",
        "     de la función range menos uno.'''\n",
        "\n",
        "# lista en python\n",
        "mi_lista = ['Juan', 'Antonio', 'Pedro', 'Herminio']\n",
        "for nombre in mi_lista:\n",
        "    print (nombre)\n",
        "\n",
        "#Tupla en python\n",
        "mi_tupla = ('rosa', 'verde', 'celeste', 'amarillo')\n",
        "for color in mi_tupla:\n",
        "\tprint (color)\n",
        "\n",
        "\n",
        "\n",
        "\n",
        "\n",
        "\n",
        "\n",
        "\n"
      ],
      "metadata": {
        "id": "Q1EBLs9Sx--2"
      },
      "execution_count": null,
      "outputs": []
    },
    {
      "cell_type": "code",
      "source": [
        "# 6. Estructura datos tipo listas\n",
        "\n",
        "lista=[]  # declaramos la lista\n",
        "for k in range(10):\n",
        "\tlista.append(input(\"introduce valor en lista:\"))  # añadimos los valores de la lista por teclado\n",
        "\n",
        "print(\"los elementos de la lista son:\"+str(lista))  # visualizamos los elementos de la lista\n",
        "valor=int(input(\"introduce el valor a modificar de la lista pon el indice:\"))  # índice a modificar\n",
        "nuevo=input (\"introduce el nuevo valor:\")  # valor nuevo de índice que se modifica\n",
        "lista[valor]=nuevo  # hacemos la modificación\n",
        "print(\"los elementos de la lista son:\"+str(lista)) # visualizamos los elemntos para comprobar la modificación\n",
        "valor=int(input(\"introduce el índice en el que se insertará el nuevo valor:\"))  # índice donde se inserta en nuevo valor\n",
        "nuevo=input (\"introduce el nuevo valor:\") # valor a insertar\n",
        "lista.insert(valor, nuevo)\n",
        "print(\"los elementos de la lista son:\"+str(lista)) # visualizamos los elemntos para comprobar la modificación\n",
        "nuevo=input (\"introduce el valor a eliminar:\") # valor a eliminar\n",
        "lista.remove(nuevo)   # eliminamos el valor\n",
        "print(\"los elementos de la lista son:\"+str(lista)) # visulaizamos lista\n",
        "nuevo=input (\"introduce el valor a buscar:\")\n",
        "resultado=(nuevo in lista)\n",
        "if (resultado):\n",
        "\tprint (\"existe este elemento y su índice es:\"+str(lista.index(nuevo)))\n",
        "else:\n",
        "\tprint(\"no exite es elemento\")\n",
        "\n",
        "\n",
        "\n",
        "\n"
      ],
      "metadata": {
        "id": "I58f_Emq1Hvy",
        "outputId": "09e3ec62-2455-4d75-e953-455f769be672",
        "colab": {
          "base_uri": "https://localhost:8080/"
        }
      },
      "execution_count": null,
      "outputs": [
        {
          "output_type": "stream",
          "name": "stdout",
          "text": [
            "introduce valor en lista:1\n",
            "introduce valor en lista:2\n",
            "introduce valor en lista:3\n",
            "introduce valor en lista:4\n",
            "introduce valor en lista:5\n",
            "introduce valor en lista:6\n",
            "introduce valor en lista:7\n",
            "introduce valor en lista:8\n",
            "introduce valor en lista:9\n",
            "introduce valor en lista:10\n",
            "los elementos de la lista son:['1', '2', '3', '4', '5', '6', '7', '8', '9', '10']\n",
            "introduce el valor a modificar de la lista pon el indice:0\n",
            "introduce el nuevo valor:11\n",
            "los elementos de la lista son:['11', '2', '3', '4', '5', '6', '7', '8', '9', '10']\n",
            "introduce el índice en el que se insertará el nuevo valor:1\n",
            "introduce el nuevo valor:22\n",
            "los elementos de la lista son:['11', '22', '2', '3', '4', '5', '6', '7', '8', '9', '10']\n",
            "introduce el valor a eliminar:22\n",
            "los elementos de la lista son:['11', '2', '3', '4', '5', '6', '7', '8', '9', '10']\n",
            "introduce el valor a buscar:5\n",
            "existe este elemento y su índice es:4\n"
          ]
        }
      ]
    },
    {
      "cell_type": "markdown",
      "source": [
        "## **Modulo 2 Programacion Estructurada**"
      ],
      "metadata": {
        "id": "DY0nksZm31oo"
      }
    },
    {
      "cell_type": "code",
      "source": [
        "# Bonus Track aplicabilidad de listas, porque debo conocer el concepto de listas asi tenga la libreria Pandas\n",
        "\n",
        "# Creamos las listas con un for\n",
        "errores = [f\"error{i}\" for i in range(1, 11)]\n",
        "codigos = [i for i in range(1, 11)]\n",
        "descripciones = [chr(96 + i) for i in range(1, 11)]  # letras de la a a la j\n",
        "\n",
        "# Crear el DataFrame\n",
        "df = pd.DataFrame({\n",
        "    \"error\": errores,\n",
        "    \"codigo\": codigos,\n",
        "    \"descripcion\": descripciones\n",
        "})\n",
        "\n",
        "# Mostrar la tabla\n",
        "print(df)"
      ],
      "metadata": {
        "colab": {
          "base_uri": "https://localhost:8080/"
        },
        "id": "Le1-n0UO4BUD",
        "outputId": "45c1b05d-2e9a-4ae7-b28f-89f792c86ca3"
      },
      "execution_count": null,
      "outputs": [
        {
          "output_type": "stream",
          "name": "stdout",
          "text": [
            "     error  codigo descripcion\n",
            "0   error1       1           a\n",
            "1   error2       2           b\n",
            "2   error3       3           c\n",
            "3   error4       4           d\n",
            "4   error5       5           e\n",
            "5   error6       6           f\n",
            "6   error7       7           g\n",
            "7   error8       8           h\n",
            "8   error9       9           i\n",
            "9  error10      10           j\n"
          ]
        }
      ]
    },
    {
      "cell_type": "code",
      "source": [
        "# converti la columna error a lista para luego recorrerla y encontrar un valor determinado\n",
        "\n",
        "lista_errores = df[\"error\"].tolist()\n",
        "\n",
        "\n",
        "for coderror in lista_errores:\n",
        "    if coderror==\"error8\":\n",
        "      print(coderror)\n",
        "      break\n",
        "else:\n",
        "    print(\"No se encontro error\")\n",
        "\n"
      ],
      "metadata": {
        "colab": {
          "base_uri": "https://localhost:8080/"
        },
        "id": "ZnDCv5ND64_U",
        "outputId": "cde706cc-92c4-4136-c2ac-717c74de02b6"
      },
      "execution_count": null,
      "outputs": [
        {
          "output_type": "stream",
          "name": "stdout",
          "text": [
            "error8\n"
          ]
        }
      ]
    },
    {
      "cell_type": "code",
      "source": [
        "# Aca esta recorriendo directamente la columna en el DF\n",
        "\n",
        "for coderror in df[\"error\"]:\n",
        "    if coderror == \"error8\":\n",
        "        print(\"Encontrado:\", coderror)\n",
        "        break\n",
        "else:\n",
        "    print(\"No se encontró error\")\n",
        "\n",
        "\n",
        "# Busca valores con coincidencia no exactos\n",
        "\n",
        "for coderror in df[\"error\"]:\n",
        "    if \"rror\" in coderror:\n",
        "        print(\"Encontrado:\", coderror)\n",
        "\n"
      ],
      "metadata": {
        "colab": {
          "base_uri": "https://localhost:8080/"
        },
        "id": "4M4wHwii_AEw",
        "outputId": "a14e0ea3-39b7-4e30-b824-73e23d66d087"
      },
      "execution_count": null,
      "outputs": [
        {
          "output_type": "stream",
          "name": "stdout",
          "text": [
            "Encontrado: error8\n",
            "Encontrado: error1\n",
            "Encontrado: error2\n",
            "Encontrado: error3\n",
            "Encontrado: error4\n",
            "Encontrado: error5\n",
            "Encontrado: error6\n",
            "Encontrado: error7\n",
            "Encontrado: error8\n",
            "Encontrado: error9\n",
            "Encontrado: error10\n"
          ]
        }
      ]
    },
    {
      "cell_type": "code",
      "source": [
        "# 7. Funciones\n",
        "\n",
        "\n",
        "def presentacion():\n",
        "    print(\"Programa para hacer operaciones aritméticas de suma y resta de dos valores.\")\n",
        "    print(\"*******************************\")\n",
        "\n",
        "def introducirDatos():\n",
        "    global valor1\n",
        "    global valor2\n",
        "    valor1=int(input(\"Ingrese el primer valor:\"))\n",
        "    valor2=int(input(\"Ingrese el segundo valor:\"))\n",
        "\n",
        "def suma(a,b):\n",
        "    suma= a + b\n",
        "    print(\"La suma de los dos valores es:\",suma)\n",
        "    return suma\n",
        "\n",
        "def resta():\n",
        "    resta=valor1-valor2\n",
        "    print(\"La resta de los dos valores es:\",resta)\n",
        "\n",
        "def finalizacion():\n",
        "    print(\"*******************************\")\n",
        "    print(\"Gracias por utilizar este programa\")\n",
        "\n",
        "\n",
        "# programa principal\n",
        "\n",
        "presentacion()\n",
        "introducirDatos()\n",
        "suma(7,8) # Enviando parametros\n",
        "resta()\n",
        "finalizacion()\n",
        "\n",
        "\n"
      ],
      "metadata": {
        "colab": {
          "base_uri": "https://localhost:8080/"
        },
        "id": "g5hsFEdVWM8T",
        "outputId": "65d794e3-bb5d-4840-c53b-2e841df92b19"
      },
      "execution_count": null,
      "outputs": [
        {
          "output_type": "stream",
          "name": "stdout",
          "text": [
            "Programa para hacer operaciones aritméticas de suma y resta de dos valores.\n",
            "*******************************\n",
            "Ingrese el primer valor:6\n",
            "Ingrese el segundo valor:4\n",
            "La suma de los dos valores es: 15\n",
            "La resta de los dos valores es: 2\n",
            "*******************************\n",
            "Gracias por utilizar este programa\n"
          ]
        }
      ]
    },
    {
      "cell_type": "code",
      "source": [
        "# 8. Funciones con parametros\n",
        "\n",
        "# EJEMPLO 1 PARAMETROS\n",
        "def mostrar_mensaje(mensaje):\n",
        "\t#funciones con parámetros simple\n",
        "\tprint(\"*************************************\")\n",
        "\tprint(mensaje)\n",
        "\tprint(\"*************************************\")\n",
        "def cargar_suma():\n",
        "\tvalor1=int(input(\"ingresa el primer valor:\"))\n",
        "\tvalor2=int(input(\"ingresa el segundo valor:\"))\n",
        "\tsuma=valor1+valor2\n",
        "\tprint(\"la suma es:\",suma)\n",
        "mostrar_mensaje(\"calculo de suma de dos valores\")\n",
        "cargar_suma()\n",
        "\n",
        "\n",
        "\n"
      ],
      "metadata": {
        "colab": {
          "base_uri": "https://localhost:8080/"
        },
        "id": "r5Wsf2YBXV2X",
        "outputId": "99c73732-8d14-4495-b915-ad478dafc34b"
      },
      "execution_count": null,
      "outputs": [
        {
          "output_type": "stream",
          "name": "stdout",
          "text": [
            "*************************************\n",
            "calculo de suma de dos valores\n",
            "*************************************\n",
            "ingresa el primer valor:4\n",
            "ingresa el segundo valor:4\n",
            "la suma es: 8\n"
          ]
        }
      ]
    },
    {
      "cell_type": "code",
      "source": [
        "#EJEMPLO1\n",
        "#PARAMETROS TIPO LISTA\n",
        "def sumarizar(lista):\n",
        "\tsuma=0\n",
        "\tfor x in range(len(lista)):\n",
        "\t\tsuma=suma+lista[x]\n",
        "\treturn suma\n",
        "def mayor(lista):\n",
        "\tmay=lista[0]\n",
        "\tfor x in range(1,len(lista)):\n",
        "\t\tif lista[x]>may:\n",
        "\t\t\tmay=lista[x]\n",
        "\treturn may\n",
        "def menor(lista):\n",
        "\tmen=lista[0]\n",
        "\tfor x in range(1,len(lista)):\n",
        "\t\tif lista[x]<men:\n",
        "\t\t\tmen=lista[x]\n",
        "\treturn men\n",
        "listaValores=[10, 56, 23, 34, 190, 298]\n",
        "print(\"lista completa\")\n",
        "print(listaValores)\n",
        "print(\"suma de los elementos:\", sumarizar(listaValores))\n",
        "print(\"el numero mayor:\", mayor(listaValores))\n",
        "print(\"el numero menor:\", menor(listaValores))"
      ],
      "metadata": {
        "colab": {
          "base_uri": "https://localhost:8080/"
        },
        "id": "Odi8GNFfYND0",
        "outputId": "87728f1b-e5fc-42a3-f762-6a19d227e1fb"
      },
      "execution_count": null,
      "outputs": [
        {
          "output_type": "stream",
          "name": "stdout",
          "text": [
            "lista completa\n",
            "[10, 56, 23, 34, 190, 298]\n",
            "suma de los elementos: 611\n",
            "el numero mayor: 298\n",
            "el numero menor: 10\n"
          ]
        }
      ]
    },
    {
      "cell_type": "code",
      "source": [
        "#EJEMPLO 1\n",
        "#PARAMETROS POR DEFECTO U OMISION\n",
        "def saludar(nombre, mensaje=\"hola\"):\n",
        "\tprint (mensaje, nombre)\n",
        "saludar(\"carlos blanco\", \"este es el cambio\")\n"
      ],
      "metadata": {
        "colab": {
          "base_uri": "https://localhost:8080/"
        },
        "id": "U3TGPh1gZLPs",
        "outputId": "1134ae0d-15b5-4805-cdbe-16ebbf07ed4c"
      },
      "execution_count": null,
      "outputs": [
        {
          "output_type": "stream",
          "name": "stdout",
          "text": [
            "hola carlos blanco\n"
          ]
        }
      ]
    },
    {
      "cell_type": "code",
      "source": [
        " #EJEMPLO 2 RETORNO DE DATOS\n",
        "#retorno de datos se devuelven a la llamada de la función que recoge los datos\n",
        "def retorno_superficie(lado):\n",
        "\tsup=lado*lado\n",
        "\treturn sup  # con la instrucción return se retorna los datos de la función\n",
        "va=int(input(\"introduce el valor del cuadrado:\"))\n",
        "superficie=retorno_superficie(va) # aqui recogemos los datos que enviamos y lo almacenamos en la variable superficie\n",
        "print(\"al algoritmo del cuadrado es:\", superficie)\n"
      ],
      "metadata": {
        "colab": {
          "base_uri": "https://localhost:8080/"
        },
        "id": "b9cN3t4oZvVS",
        "outputId": "cedb1c3e-dbc3-47ee-8133-5b946e1c5ff6"
      },
      "execution_count": null,
      "outputs": [
        {
          "output_type": "stream",
          "name": "stdout",
          "text": [
            "introduce el valor del cuadrado:4\n",
            "al algoritmo del cuadrado es: 16\n"
          ]
        }
      ]
    },
    {
      "cell_type": "code",
      "source": [
        "#EJEMPLO2\n",
        "# PARAMETRO ARBITRARIOS\n",
        "def sumar(v1, v2, *lista):\n",
        "\tsuma=v1+v2\n",
        "\tfor x in range(len(lista)):\n",
        "\t\tsuma=suma+lista[x]\n",
        "\treturn suma\n",
        "print(\"Suma de dos valores\")\n",
        "print(sumar(1,2))\n",
        "print(\"suma de cuatro valores\")\n",
        "print(sumar(1,2,3,4))\n",
        "print(\"suma de diez valores\")\n",
        "print(sumar(1,2,3,4,5,6,7,8,9,10))\n",
        "\n"
      ],
      "metadata": {
        "colab": {
          "base_uri": "https://localhost:8080/"
        },
        "id": "C6Dj85_dao47",
        "outputId": "3afaa6cb-970e-4f6a-d35e-db0681ac588b"
      },
      "execution_count": null,
      "outputs": [
        {
          "output_type": "stream",
          "name": "stdout",
          "text": [
            "Suma de dos valores\n",
            "3\n",
            "suma de cuatro valores\n",
            "10\n",
            "suma de diez valores\n",
            "55\n"
          ]
        }
      ]
    },
    {
      "cell_type": "code",
      "source": [
        "#EJEMPLO2\n",
        "#RETORNO DE LISTA\n",
        "def cargar_lista():\n",
        "\tli=[]\n",
        "\tfor x in range(5):\n",
        "\t\tvalor=int(input(\"introduce valor:\"))\n",
        "\t\tli.append(valor)\n",
        "\treturn li\n",
        "def imprimir_mayor(li):\n",
        "\tprint(\"valores de la lista mayores a 10:\")\n",
        "\tfor x  in range(len(li)):\n",
        "\t\tif li[x]>10:\n",
        "\t\t\tprint(li[x])\n",
        "lista=cargar_lista()\n",
        "imprimir_mayor(lista)"
      ],
      "metadata": {
        "colab": {
          "base_uri": "https://localhost:8080/"
        },
        "id": "4bHHm16RbgAb",
        "outputId": "0b00eb08-50e4-492f-f0c6-37a633d63320"
      },
      "execution_count": null,
      "outputs": [
        {
          "output_type": "stream",
          "name": "stdout",
          "text": [
            "introduce valor:3\n",
            "introduce valor:6\n",
            "introduce valor:9\n",
            "introduce valor:10\n",
            "introduce valor:12\n",
            "valores de la lista mayores a 10:\n",
            "12\n"
          ]
        }
      ]
    },
    {
      "cell_type": "code",
      "source": [
        "# 9. Funciones con retornos de datos\n",
        "\n",
        "def retornar(d1, d2):\n",
        "\tif d1 > d2:\n",
        "\t\tm=d1\n",
        "\telse:\n",
        "\t\tm=d2\n",
        "\treturn m\n",
        "\n",
        "d1=34\n",
        "d2=56\n",
        "print(retornar(d1,d2)) # se puede utilizar la llada a la función para obtenr el valor retornado\n",
        "valor=retornar(d1, d2) # o se puede almacenar el valor en una variable y luego operar con el\n",
        "print (\"el valor mayor es:\", valor)\n"
      ],
      "metadata": {
        "id": "qgqX0RT-r_pS",
        "outputId": "ab7518f6-b356-474e-c0fe-b86f092cb1e2",
        "colab": {
          "base_uri": "https://localhost:8080/"
        }
      },
      "execution_count": null,
      "outputs": [
        {
          "output_type": "stream",
          "name": "stdout",
          "text": [
            "56\n",
            "el valor mayor es: 56\n"
          ]
        }
      ]
    },
    {
      "cell_type": "code",
      "source": [
        "# 10. Funciones parametros tipo lista\n",
        "\n",
        "def sumarDeValores(lista):\n",
        "\tsuma=0\n",
        "\tfor x in range(len(lista)):\n",
        "\t\tsuma=suma+lista[x]\n",
        "\n",
        "\treturn suma\n",
        "\n",
        "def ValorMayor(lista):\n",
        "\tmay=lista[0]\n",
        "\tfor x in range(1,len(lista)):\n",
        "\t\tif lista[x]>may:\n",
        "\t\t\tmay=lista[x]\n",
        "\n",
        "\treturn may\n",
        "\n",
        "def ValorMenor(lista):\n",
        "\tmen=lista[0]\n",
        "\tfor x in range(1, len(lista)):\n",
        "\t\tif lista[x]<men:\n",
        "\t\t\tmen=lista[x]\n",
        "\n",
        "\treturn men\n",
        "\n",
        "datos=[5454, 43430, 3222, 12222, 666, 65656, 545, 2333, 21212, 23, 6565]\n",
        "print(\"Total de datos:\")\n",
        "print(datos)\n",
        "print(\"El total de sumar los valores del array:\", sumarDeValores(datos))\n",
        "print(\"Valor mayor del array:\", ValorMayor(datos))\n",
        "print(\"Valor menor del array:\", ValorMenor(datos))\n",
        "\"\"\"Creamos un array con varios valores numéricos, para que nuestra función pueda operar con ellos sólo\n",
        "tenemos que enviarselos cuando hacemos la llamada a la función entre los paréntesis\n",
        "introducimos el nombre de nuestra array, con esto ya estamos enviando los datos a la función.\n",
        "para recuperar esos valores en la función ponemos un parámetro, con esto la función identifica\n",
        "los valores que va a recoger y ya podemos operar con ellos dentro de la función\"\"\"\n",
        "\n",
        "\n"
      ],
      "metadata": {
        "id": "AMj_nerTtH5Z",
        "outputId": "8406879e-2f9d-469d-d1d5-e00501a56261",
        "colab": {
          "base_uri": "https://localhost:8080/",
          "height": 140
        }
      },
      "execution_count": null,
      "outputs": [
        {
          "output_type": "stream",
          "name": "stdout",
          "text": [
            "Total de datos:\n",
            "[5454, 43430, 3222, 12222, 666, 65656, 545, 2333, 21212, 23, 6565]\n",
            "El total de sumar los valores del array: 161328\n",
            "Valor mayor del array: 65656\n",
            "Valor menor del array: 23\n"
          ]
        },
        {
          "output_type": "execute_result",
          "data": {
            "text/plain": [
              "'Creamos un array con varios valores numéricos, para que nuestra función pueda operar con ellos sólo \\ntenemos que enviarselos cuando hacemos la llamada a la función entre los paréntesis  \\nintroducimos el nombre de nuestra array, con esto ya estamos enviando los datos a la función.\\npara recuperar esos valores en la función ponemos un parámetro, con esto la función identifica \\nlos valores que va a recoger y ya podemos operar con ellos dentro de la función'"
            ],
            "application/vnd.google.colaboratory.intrinsic+json": {
              "type": "string"
            }
          },
          "metadata": {},
          "execution_count": 6
        }
      ]
    },
    {
      "cell_type": "code",
      "source": [
        "# 11.  Estructurs Datos tipo tupla\n",
        "\n",
        "\n",
        "def cargar_fecha():\n",
        "    dd=int(input(\"Ingrese numero de dia:\"))\n",
        "    mm=int(input(\"Ingrese numero de mes:\"))\n",
        "    aa=int(input(\"Ingrese numero de año:\"))\n",
        "    tupla = (dd,mm,aa)\n",
        "    return tupla\n",
        "\n",
        "def imprimir_fecha(fecha):\n",
        "    print(fecha[0],fecha[1],fecha[2],sep=\"/\")\n",
        "\n",
        "\n",
        "# bloque principal\n",
        "\n",
        "fecha=cargar_fecha()\n",
        "imprimir_fecha(fecha)\n",
        "\n",
        "\n"
      ],
      "metadata": {
        "id": "nckXF1zHwaxe",
        "outputId": "d545d4df-1a24-4fda-e393-cb0b2158be6e",
        "colab": {
          "base_uri": "https://localhost:8080/"
        }
      },
      "execution_count": null,
      "outputs": [
        {
          "output_type": "stream",
          "name": "stdout",
          "text": [
            "Ingrese numero de dia:10\n",
            "Ingrese numero de mes:05\n",
            "Ingrese numero de año:1985\n",
            "10/5/1985\n"
          ]
        }
      ]
    },
    {
      "cell_type": "code",
      "source": [
        "# 12. Listas y tuplas anidadas\n",
        "\n",
        "def cargar_paisespoblacion():\n",
        "    paises=[]  #lista\n",
        "    for x in range(3):\n",
        "        nom=input(\"Ingresar el nombre del pais:\")\n",
        "        cant=int(input(\"Ingrese la cantidad de habitantes:\"))\n",
        "        paises.append((nom,cant)) #elementos tupla añadidos a la lista\n",
        "    return paises\n",
        "\n",
        "\n",
        "def imprimir(paises):\n",
        "    print(\"Paises y su poblacion\")\n",
        "    for x in range(len(paises)):\n",
        "        print(paises[x][0],paises[x][1])\n",
        "\n",
        "\n",
        "def pais_maspoblacion(paises):\n",
        "    pos=0\n",
        "    for x in range(1,len(paises)):\n",
        "        if paises[x][1]>paises[pos][1]:\n",
        "            pos=x\n",
        "    print(\"Pais con mayor cantidad de habitantes:\",paises[pos][0])\n",
        "\n",
        "\n",
        "# bloque principal\n",
        "\n",
        "paises=cargar_paisespoblacion()\n",
        "print(paises)\n",
        "#paises[0][0]=\"z\" con tupla no lo puedo modificar, con lista si puedo modificar\n",
        "imprimir(paises)\n",
        "pais_maspoblacion(paises)\n",
        "\n",
        "# explicación del ejercicio en apartado 32 python ya\n",
        "\n"
      ],
      "metadata": {
        "id": "FUfM7Fx9ySZF",
        "outputId": "2bdd731d-5494-4750-e6cb-ebb20f4018c9",
        "colab": {
          "base_uri": "https://localhost:8080/"
        }
      },
      "execution_count": null,
      "outputs": [
        {
          "output_type": "stream",
          "name": "stdout",
          "text": [
            "Ingresar el nombre del pais:C\n",
            "Ingrese la cantidad de habitantes:10\n",
            "Ingresar el nombre del pais:P\n",
            "Ingrese la cantidad de habitantes:20\n",
            "Ingresar el nombre del pais:V\n",
            "Ingrese la cantidad de habitantes:30\n",
            "[('C', 10), ('P', 20), ('V', 30)]\n",
            "Paises y su poblacion\n",
            "C 10\n",
            "P 20\n",
            "V 30\n",
            "Pais con mayor cantidad de habitantes: V\n"
          ]
        }
      ]
    },
    {
      "cell_type": "code",
      "source": [
        "\"\"\"Cómo diferenciar en la práctica\n",
        "Tuplas → () y son inmutables (no puedes modificar sus elementos después).\n",
        "\n",
        "Listas → [] y son mutables (puedes modificar los elementos).\n",
        "\n",
        "Ejemplo:\n",
        "\n",
        "python\n",
        "Copiar\n",
        "Editar\n",
        "# Tupla\n",
        "registro = (\"Colombia\", 50_000_000)\n",
        "registro[0] = \"Perú\"   # ❌ Error: no se puede modificar\n",
        "\n",
        "# Lista\n",
        "registro = [\"Colombia\", 50_000_000]\n",
        "registro[0] = \"Perú\"   # ✅ Se modifica sin problema\"\"\""
      ],
      "metadata": {
        "id": "Tg7CZptF3uMM"
      },
      "execution_count": null,
      "outputs": []
    },
    {
      "cell_type": "code",
      "source": [
        "# Listas y tuplas anidadas con tuplas de 3 grupos con 3 elementos\n",
        "\n",
        "def cargar_paisespoblacion():\n",
        "    paises=[]  #lista\n",
        "    for x in range(3):\n",
        "        nom=input(\"Ingresar el nombre del pais:\")\n",
        "        ciu=input(\"Ingresa el nombre de la Ciudad\")\n",
        "        cant=int(input(\"Ingrese la cantidad de habitantes:\"))\n",
        "        paises.append((nom,ciu,cant)) #elementos tupla añadidos a la lista\n",
        "    return paises\n",
        "\n",
        "\n",
        "def imprimir(paises):\n",
        "    print(\"Paises y su poblacion\")\n",
        "    for x in range(len(paises)):\n",
        "        print(paises[x][0],paises[x][1], paises[x][2])\n",
        "\n",
        "\n",
        "def pais_maspoblacion(paises):\n",
        "    pos=0\n",
        "    for x in range(1,len(paises)):\n",
        "        if paises[x][2]>paises[pos][2]:\n",
        "            pos=x\n",
        "    print(\"Pais con mayor cantidad de habitantes:\",paises[pos][1])\n",
        "\n",
        "\n",
        "# bloque principal\n",
        "\n",
        "paises=cargar_paisespoblacion()\n",
        "print(paises)\n",
        "#paises[0][0]=\"z\" con tupla no lo puedo modificar, con lista si puedo modificar\n",
        "imprimir(paises)\n",
        "pais_maspoblacion(paises)\n",
        "\n",
        "# explicación del ejercicio en apartado 32 python ya"
      ],
      "metadata": {
        "id": "ZpT_peOiET0P",
        "colab": {
          "base_uri": "https://localhost:8080/"
        },
        "outputId": "c6c500ed-265b-476d-8cfc-ee1e1a92832e"
      },
      "execution_count": null,
      "outputs": [
        {
          "output_type": "stream",
          "name": "stdout",
          "text": [
            "Ingresar el nombre del pais:peru\n",
            "Ingresa el nombre de la Ciudadlima\n",
            "Ingrese la cantidad de habitantes:100\n",
            "Ingresar el nombre del pais:colombia\n",
            "Ingresa el nombre de la Ciudadbogota\n",
            "Ingrese la cantidad de habitantes:200\n",
            "Ingresar el nombre del pais:ecuador\n",
            "Ingresa el nombre de la Ciudadquito\n",
            "Ingrese la cantidad de habitantes:300\n",
            "[('peru', 'lima', 100), ('colombia', 'bogota', 200), ('ecuador', 'quito', 300)]\n",
            "Paises y su poblacion\n",
            "peru lima 100\n",
            "colombia bogota 200\n",
            "ecuador quito 300\n",
            "Pais con mayor cantidad de habitantes: quito\n"
          ]
        }
      ]
    },
    {
      "cell_type": "code",
      "source": [
        "# 13. Estructura de datos tipo diccionario\n",
        "\n",
        "def cargar():\n",
        "    diccionario={}\n",
        "    continua=\"s\"\n",
        "    while continua==\"s\":\n",
        "        caste=input(\"Ingrese palabra en castellano:\")\n",
        "        ing=input(\"Ingrese palabra en ingles:\")\n",
        "        diccionario[caste]=ing\n",
        "        continua=input(\"Quiere cargar otra palabra:[s/n]\")\n",
        "    return diccionario\n",
        "\n",
        "\n",
        "def imprimir(diccionario):\n",
        "    print(\"Listado completo del diccionario\")\n",
        "    for x in diccionario:\n",
        "        print(x, diccionario[x])\n",
        "\n",
        "\n",
        "\"\"\"Si solo quieres imprimir la palabra en inglés (el valor completo), usa directamente:\n",
        "for x in diccionario:\n",
        "    print(x, diccionario[x])   # x = castellano ***CLAVE***, diccionario[x] = inglés ****VALOR*****  \"\"\"\n",
        "\n",
        "def consulta_palabra(diccionario):\n",
        "    pal=input(\"Ingrese la palabra en castellano a consultar:\")\n",
        "    if pal in diccionario:\n",
        "            print(\"En ingles significa:\", diccionario[pal])\n",
        "    else:\n",
        "        print(\"No se encuentra en el diccionario\")\n",
        "\n",
        "# bloque principal\n",
        "\n",
        "diccionario=cargar()\n",
        "imprimir(diccionario)\n",
        "consulta_palabra(diccionario)\n",
        "\n",
        "# mirar explicación en el apartado 34 de python ya ejercicio último\n"
      ],
      "metadata": {
        "id": "bhX9jgk0HYUk",
        "outputId": "85b18024-9722-44ef-9a13-f80a190f728e",
        "colab": {
          "base_uri": "https://localhost:8080/"
        }
      },
      "execution_count": null,
      "outputs": [
        {
          "output_type": "stream",
          "name": "stdout",
          "text": [
            "Ingrese palabra en castellano:LAPIZ\n",
            "Ingrese palabra en ingles:PENCIL\n",
            "Quiere cargar otra palabra:[s/n]s\n",
            "Ingrese palabra en castellano:CORRER\n",
            "Ingrese palabra en ingles:RUN\n",
            "Quiere cargar otra palabra:[s/n]n\n",
            "Listado completo del diccionario\n",
            "LAPIZ PENCIL\n",
            "CORRER RUN\n",
            "Ingrese la palabra en castellano a consultar:LAPIZ\n",
            "En ingles significa: LAPIZ PENCIL\n"
          ]
        }
      ]
    },
    {
      "cell_type": "markdown",
      "source": [
        "![Problema Diccionario.PNG](data:image/png;base64,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)"
      ],
      "metadata": {
        "id": "mUqVCyYHTJmf"
      }
    },
    {
      "cell_type": "code",
      "source": [
        "# 14. Diccionarios con valores de tipo lista, tupla y diccionario\n",
        "\n",
        "def cargar():\n",
        "    productos={} # diccionario\n",
        "    continua=\"s\"\n",
        "    while continua==\"s\":\n",
        "        codigo=int(input(\"Ingrese el codigo del producto:\"))\n",
        "        descripcion=input(\"Ingrese la descripcion:\")\n",
        "        precio=float(input(\"Ingrese el precio:\"))\n",
        "        stock=int(input(\"Ingrese el stock actual:\"))\n",
        "        productos[codigo]=(descripcion,precio,stock)\n",
        "        continua=input(\"Desea cargar otro producto[s/n]?\")\n",
        "    return productos\n",
        "\n",
        "\n",
        "def imprimir(productos):\n",
        "    print(\"Listado completo de productos:\")\n",
        "    for codigo in productos:\n",
        "        print(codigo,productos[codigo][0],productos[codigo][1],productos[codigo][2])\n",
        "\n",
        "\n",
        "def consulta(productos):\n",
        "    codigo=int(input(\"Ingrese el codigo de articulo a consultar:\"))\n",
        "    if codigo in productos:\n",
        "        print(productos[codigo][0],productos[codigo][1],productos[codigo][2])\n",
        "\n",
        "\n",
        "def listado_stock_cero(productos):\n",
        "    print(\"Listado de articulos con stock en cero:\")\n",
        "    for codigo in productos:\n",
        "        if productos[codigo][2]==0:\n",
        "            print(codigo,productos[codigo][0],productos[codigo][1],productos[codigo][2])\n",
        "\n",
        "\n",
        "\n",
        "# bloque principal\n",
        "\n",
        "productos=cargar()\n",
        "print(productos)\n",
        "imprimir(productos)\n",
        "consulta(productos)\n",
        "listado_stock_cero(productos)\n"
      ],
      "metadata": {
        "id": "cEOHgXjDRkj-",
        "outputId": "b76ce26d-626e-4c67-954d-52e6ead8bd51",
        "colab": {
          "base_uri": "https://localhost:8080/"
        }
      },
      "execution_count": null,
      "outputs": [
        {
          "output_type": "stream",
          "name": "stdout",
          "text": [
            "Ingrese el codigo del producto:1101\n",
            "Ingrese la descripcion:silla\n",
            "Ingrese el precio:500\n",
            "Ingrese el stock actual:20\n",
            "Desea cargar otro producto[s/n]?s\n",
            "Ingrese el codigo del producto:1102\n",
            "Ingrese la descripcion:puesto\n",
            "Ingrese el precio:800\n",
            "Ingrese el stock actual:10\n",
            "Desea cargar otro producto[s/n]?n\n",
            "{1101: ('silla', 500.0, 20), 1102: ('puesto', 800.0, 10)}\n"
          ]
        }
      ]
    },
    {
      "cell_type": "code",
      "source": [
        "def cargar():\n",
        "    agenda={}\n",
        "    continua1=\"s\"\n",
        "    while continua1==\"s\":\n",
        "        fecha=input(\"ingrese la fecha con formato dd/mm/aa:\")\n",
        "        continua2=\"s\"\n",
        "        lista=[]\n",
        "        while continua2==\"s\":\n",
        "            hora=input(\"Ingrese la hora de la actividad con formato hh:mm \")\n",
        "            actividad=input(\"Ingrese la descripcon de la actividad:\")\n",
        "            lista.append((hora,actividad))\n",
        "            continua2=input(\"Ingresa otra actividad para la misma fecha[s/n]:\")\n",
        "        agenda[fecha]=lista\n",
        "        continua1=input(\"Ingresa otra fecha[s/n]:\")\n",
        "    return agenda\n",
        "\n",
        "\n",
        "def imprimir(agenda):\n",
        "    print(\"Listado completa de la agenda\")\n",
        "    for fecha in agenda:\n",
        "        print(\"Para la fecha:\",fecha)\n",
        "        for hora,actividad in agenda[fecha]:\n",
        "            print(hora,actividad)\n",
        "\n",
        "\n",
        "def consulta_fecha(agenda):\n",
        "    fecha=input(\"Ingrese la fecha que desea consultar:\")\n",
        "    if fecha in agenda:\n",
        "        for hora,actividad in agenda[fecha]:\n",
        "            print(hora,actividad)\n",
        "    else:\n",
        "        print(\"No hay actividades agendadas para dicha fecha\")\n",
        "\n",
        "\n",
        "# bloque principal\n",
        "\n",
        "agenda=cargar()\n",
        "print(agenda)\n",
        "\n",
        "#imprimir(agenda)\n",
        "#consulta_fecha(agenda)\n",
        "\n"
      ],
      "metadata": {
        "id": "QyerfRrdaFhK",
        "outputId": "91f41ea0-2c71-4ffe-c26f-802d079e355b",
        "colab": {
          "base_uri": "https://localhost:8080/"
        }
      },
      "execution_count": null,
      "outputs": [
        {
          "output_type": "stream",
          "name": "stdout",
          "text": [
            "ingrese la fecha con formato dd/mm/aa:25/07/2025\n",
            "Ingrese la hora de la actividad con formato hh:mm 02:30\n",
            "Ingrese la descripcon de la actividad:curso\n",
            "Ingresa otra actividad para la misma fecha[s/n]:s\n",
            "Ingrese la hora de la actividad con formato hh:mm 03:00\n",
            "Ingrese la descripcon de la actividad:revisar correos\n",
            "Ingresa otra actividad para la misma fecha[s/n]:n\n",
            "Ingresa otra fecha[s/n]:n\n",
            "{'25/07/2025': [('02:30', 'curso'), ('03:00', 'revisar correos')]}\n"
          ]
        }
      ]
    },
    {
      "cell_type": "code",
      "source": [
        "# 15. Porciones de listas, tuplas y cadenas de caracteres, rescatar un o o varios datos de una lista\n",
        "\n",
        "def meses_faltantes(numero):\n",
        "    meses=('enero','febrero','marzo','abril','mayo','junio','julio','agosto','septiembre','octubre','noviembre','diciembre')\n",
        "    return meses[numero:]\n",
        "\n",
        "\n",
        "# bloque principal\n",
        "#Se recupera desde el mes indicado hasta el final de la lista\n",
        "print(\"Imprimir los nombres de meses que faltan hasta fin de año\")\n",
        "numero=int(input(\"Ingrese el numero de mes:\"))\n",
        "mesesfalta=meses_faltantes(numero)\n",
        "print(mesesfalta)\n",
        "\n"
      ],
      "metadata": {
        "id": "2YpjaVRonMuV",
        "outputId": "96f304f5-1439-480d-c279-7a0a48d2bf35",
        "colab": {
          "base_uri": "https://localhost:8080/"
        }
      },
      "execution_count": null,
      "outputs": [
        {
          "output_type": "stream",
          "name": "stdout",
          "text": [
            "Imprimir los nombres de meses que faltan hasta fin de año\n",
            "Ingrese el numero de mes:5\n",
            "('junio', 'julio', 'agosto', 'septiembre', 'octubre', 'noviembre', 'diciembre')\n"
          ]
        }
      ]
    },
    {
      "cell_type": "code",
      "source": [
        "def meses_faltantes(inicio, final):\n",
        "    meses=('enero','febrero','marzo','abril','mayo','junio','julio','agosto','septiembre','octubre','noviembre','diciembre')\n",
        "    return meses[inicio: final]\n",
        "\n",
        "\n",
        "# bloque principal\n",
        "#Se recupera desde el mes indicado hasta el otro mes indicado\n",
        "print(\"Imprimir los nombres de meses compredidos entre un mes y otro:\")\n",
        "inicio=int(input(\"Ingrese el numero de mes:\"))\n",
        "final=int(input(\"Ingrese el numero de mes:\"))\n",
        "mesesfalta=meses_faltantes(inicio, final)\n",
        "print(mesesfalta)"
      ],
      "metadata": {
        "id": "b3Q8qmZPpj36",
        "outputId": "7dc915e7-bbae-4246-bec1-fed72b2359a5",
        "colab": {
          "base_uri": "https://localhost:8080/"
        }
      },
      "execution_count": null,
      "outputs": [
        {
          "output_type": "stream",
          "name": "stdout",
          "text": [
            "Imprimir los nombres de meses compredidos entre un mes y otro:\n",
            "Ingrese el numero de mes:5\n",
            "Ingrese el numero de mes:8\n",
            "('junio', 'julio', 'agosto')\n"
          ]
        }
      ]
    },
    {
      "cell_type": "code",
      "source": [
        "def meses_faltantes(inicio):\n",
        "    meses=('enero','febrero','marzo','abril','mayo','junio','julio','agosto','septiembre','octubre','noviembre','diciembre')\n",
        "    return meses[:inicio]\n",
        "\n",
        "\n",
        "# bloque principal\n",
        "# se recupera todos los meses anteriores a mes indicado\n",
        "print(\"Imprimir los nombres de meses y todos los anteriores:\")\n",
        "inicio=int(input(\"Ingrese el numero de mes:\"))\n",
        "\n",
        "mesesfalta=meses_faltantes(inicio)\n",
        "print(mesesfalta)"
      ],
      "metadata": {
        "id": "uvC-qRa_qEsR",
        "outputId": "7105ea61-28a2-46f3-a383-ebd9fdca1b03",
        "colab": {
          "base_uri": "https://localhost:8080/"
        }
      },
      "execution_count": null,
      "outputs": [
        {
          "output_type": "stream",
          "name": "stdout",
          "text": [
            "Imprimir los nombres de meses y todos los anteriores:\n",
            "Ingrese el numero de mes:3\n",
            "('enero', 'febrero', 'marzo')\n"
          ]
        }
      ]
    },
    {
      "cell_type": "code",
      "source": [
        "# 16. Indices negativos en listas, tuplas y cadenas de caracteres\n",
        "\n",
        "\n",
        "def proceso(cadena):\n",
        "    indice=-1\n",
        "    iguales=0\n",
        "    for x in range(0,len(cadena)//2):\n",
        "        if cadena[x]==cadena[indice]:\n",
        "            iguales=iguales+1\n",
        "        indice=indice-1\n",
        "    print(cadena)\n",
        "    if iguales==(len(cadena)//2):\n",
        "        print(\"Es capicua\")\n",
        "    else:\n",
        "        print(\"No es capicua\")\n",
        "\n",
        "\n",
        "# bloque principal\n",
        "#podemos utilizar valores negativos para acceder a valores de las estructuras de datos\n",
        "#para aceder a último valor pondremos el indice -1, para el penúltimo el -2 así hasta el primero\n",
        "#lista =[1,2,3]  print(lista[-1]) accedemos a valor 3 print([-2]) accedemos al valor 2\n",
        "\n",
        "\n",
        "proceso(\"1331\")\n",
        "proceso(\"3851\")"
      ],
      "metadata": {
        "id": "cEaqN3NUqbBT",
        "outputId": "ab17d1df-f599-4283-d520-b5ea867acf20",
        "colab": {
          "base_uri": "https://localhost:8080/"
        }
      },
      "execution_count": null,
      "outputs": [
        {
          "output_type": "stream",
          "name": "stdout",
          "text": [
            "1331\n",
            "Es capicua\n",
            "3851\n",
            "No es capicua\n"
          ]
        }
      ]
    },
    {
      "cell_type": "markdown",
      "source": [],
      "metadata": {
        "id": "fqZFOx6ywJS2"
      }
    },
    {
      "cell_type": "markdown",
      "source": [
        "## **Modulo 3 Programacion orientada a objetos**"
      ],
      "metadata": {
        "id": "VJuBeA4UwQNQ"
      }
    },
    {
      "cell_type": "code",
      "source": [
        "\n",
        "# 18. Biblioteca estandar\n",
        "\n",
        "import random\n",
        "\n",
        "def cargar():\n",
        "  lista=[]\n",
        "  for i in range(10):\n",
        "    lista.append(random.randint(0,100))\n",
        "  return lista\n",
        "\n",
        "def imprimir(lista):\n",
        "  print(lista)\n",
        "\n",
        "\n",
        "def mezclar(lista):\n",
        "  random.shuffle(lista)\n",
        "\n",
        "\n",
        "# Bloque Principal\n",
        "\n",
        "lista=cargar()\n",
        "print(\"lista generada aleatoriamente\")\n",
        "imprimir(lista)\n",
        "mezclar(lista)\n",
        "print(\"la misma lista luego de mezclar\")\n",
        "imprimir(lista)\n",
        "\n"
      ],
      "metadata": {
        "id": "dHkBaFPJwVdZ",
        "colab": {
          "base_uri": "https://localhost:8080/"
        },
        "outputId": "5e19f366-65df-4887-e4f7-f3161a1afc21"
      },
      "execution_count": null,
      "outputs": [
        {
          "output_type": "stream",
          "name": "stdout",
          "text": [
            "lista generada aleatoriamente\n",
            "[92, 12, 37, 28, 40, 19, 67, 54, 79, 38]\n",
            "la misma lista luego de mezclar\n",
            "[79, 92, 12, 19, 38, 40, 28, 54, 67, 37]\n"
          ]
        }
      ]
    },
    {
      "cell_type": "code",
      "source": [
        "# 19. Importar algunas funcionalidades de un módulo de la biblioteca estándar\n",
        "\n",
        "#from math import sqrt, pow  sin agregar nombre a las librerias que importamos de la libreria\n",
        "\n",
        "from math import sqrt as raiz, pow as exponenete # agragando nombre a las librerias que importamos para que sea mas facil de implementar\n",
        "\n",
        "\n",
        "\n",
        "dato=int(input(\"ingrese un numero entero: \"))\n",
        "raiz_cuadrada=raiz(dato)\n",
        "cubo=exponenete(dato,3)\n",
        "print(\"la raiz cuadrada de\",dato,\"es\",raiz_cuadrada)\n",
        "print(\"el cubo de\",dato,\"es\",cubo)\n",
        "\n",
        "\n",
        "\n",
        "\n",
        "\n"
      ],
      "metadata": {
        "colab": {
          "base_uri": "https://localhost:8080/"
        },
        "id": "7qtIYlYOocql",
        "outputId": "3a5706f9-a687-43e5-85bc-7d69d2767049"
      },
      "execution_count": null,
      "outputs": [
        {
          "output_type": "stream",
          "name": "stdout",
          "text": [
            "ingrese un numero entero: 9\n",
            "la raiz cuadrada de 9 es 3.0\n",
            "el cubo de 9 es 729.0\n"
          ]
        }
      ]
    },
    {
      "cell_type": "code",
      "source": [
        "# 20.  Aplicaciones propias con varios modulos\n",
        "\n",
        "# aplicacion propia con varios modulos\n",
        "# este ejercicio es para aplicar directamente sobre el python descargado\n",
        "# se crean dos archivos uno principal y el otro modulos con las funciones al ejecutarl el modulo principal debe hacer la operacion y traer el resultado\n",
        "\n",
        "\n",
        "# archivo modulos guardado en C/\n",
        "def numero_mayor(x1,x2):\n",
        "  if x1>x2:\n",
        "    return x1\n",
        "  else:\n",
        "    return x2\n",
        "\n",
        "\n",
        "def numero_menor(x1,x2):\n",
        "  if x1<x2:\n",
        "    return x1\n",
        "  else:\n",
        "    return x2\n",
        "\n",
        "\n",
        "\n"
      ],
      "metadata": {
        "id": "qwoUL4afrT4U"
      },
      "execution_count": null,
      "outputs": []
    },
    {
      "cell_type": "code",
      "source": [
        "# archivo principal guardado en c/\n",
        "\n",
        "#from mayormenor import numero_menor\n",
        "#from mayormenor import numero_mayor\n",
        "\n",
        "n1=int(input(\"ingrese el primer numero: \"))\n",
        "n2=int(input(\"ingrese segundo numero: \"))\n",
        "\n",
        "print(\"el mayor de los dos valores es: \", numero_menor(n1,n2))"
      ],
      "metadata": {
        "colab": {
          "base_uri": "https://localhost:8080/"
        },
        "id": "tytoBDb6s9mD",
        "outputId": "a637839d-e90a-4b0c-b4db-47677138edca"
      },
      "execution_count": null,
      "outputs": [
        {
          "output_type": "stream",
          "name": "stdout",
          "text": [
            "ingrese el primer numero: 7\n",
            "ingrese segundo numero: 5\n",
            "el mayor de los dos valores es:  5\n"
          ]
        }
      ]
    },
    {
      "cell_type": "code",
      "source": [
        "\n",
        "# Celda 1: Simular en Python - Crear el archivo mayormenor.py\n",
        "\n",
        "%%writefile mayormenor.py\n",
        "\n",
        "def numero_mayor(x1,x2):\n",
        "  if x1>x2:\n",
        "    return x1\n",
        "  else:\n",
        "    return x2\n",
        "\n",
        "\n",
        "def numero_menor(x1,x2):\n",
        "  if x1<x2:\n",
        "    return x1\n",
        "  else:\n",
        "    return x2"
      ],
      "metadata": {
        "colab": {
          "base_uri": "https://localhost:8080/"
        },
        "id": "Y2hqefJwxCvy",
        "outputId": "475104a6-4464-45b8-f3f6-03d2e139d306"
      },
      "execution_count": null,
      "outputs": [
        {
          "output_type": "stream",
          "name": "stdout",
          "text": [
            "Writing mayormenor.py\n"
          ]
        }
      ]
    },
    {
      "cell_type": "code",
      "source": [
        "from mayormenor import numero_menor, numero_mayor\n",
        "\n",
        "n1=int(input(\"ingrese el primer numero: \"))\n",
        "n2=int(input(\"ingrese segundo numero: \"))\n",
        "\n",
        "print(\"el mayor de los dos valores es: \", numero_mayor(n1,n2))"
      ],
      "metadata": {
        "colab": {
          "base_uri": "https://localhost:8080/"
        },
        "id": "xBGDKKExyLtr",
        "outputId": "aa22fd4b-b3e7-445e-f369-8449bbd313b4"
      },
      "execution_count": null,
      "outputs": [
        {
          "output_type": "stream",
          "name": "stdout",
          "text": [
            "ingrese el primer numero: 15\n",
            "ingrese segundo numero: 5\n",
            "el mayor de los dos valores es:  15\n"
          ]
        }
      ]
    },
    {
      "cell_type": "code",
      "source": [
        "# Otro ejercicio\n",
        "\n",
        "%%writefile operacioneslista.py\n",
        "def cargar_datos():\n",
        "    lista=[]\n",
        "    for x in range(5):\n",
        "        valor=int(input(\"Ingrese valor:\"))\n",
        "        lista.append(valor)\n",
        "    return lista\n",
        "\n",
        "\n",
        "def verificar_mayor(lista):\n",
        "    may=lista[0]\n",
        "    for x in range(1,5):\n",
        "        if lista[x]>may:\n",
        "            may=lista[x]\n",
        "    print(\"Mayor de la lista\",may)\n",
        "\n",
        "\n",
        "def verificar_suma(lista):\n",
        "    suma=0\n",
        "    for elemento in lista:\n",
        "        suma=suma+elemento\n",
        "    print(\"Suma de todos sus elementos\",suma)\n",
        "\n",
        "\n",
        "\n",
        "\n",
        "\n",
        "\n",
        "\n",
        "\n"
      ],
      "metadata": {
        "colab": {
          "base_uri": "https://localhost:8080/"
        },
        "id": "T-yPLun5zYhj",
        "outputId": "da6acc37-27aa-458d-90d0-64537a37838b"
      },
      "execution_count": null,
      "outputs": [
        {
          "output_type": "stream",
          "name": "stdout",
          "text": [
            "Writing operacioneslista.py\n"
          ]
        }
      ]
    },
    {
      "cell_type": "code",
      "source": [
        "import operacioneslista\n",
        "\n",
        "lista=operacioneslista.cargar_datos()\n",
        "operacioneslista.verificar_mayor(lista)\n",
        "operacioneslista.verificar_suma(lista)"
      ],
      "metadata": {
        "colab": {
          "base_uri": "https://localhost:8080/"
        },
        "id": "F1uu1lvLzzMP",
        "outputId": "4bb29dc2-d406-41d4-a195-87be709ab1ac"
      },
      "execution_count": null,
      "outputs": [
        {
          "output_type": "stream",
          "name": "stdout",
          "text": [
            "Ingrese valor:8\n",
            "Ingrese valor:5\n",
            "Ingrese valor:3\n",
            "Ingrese valor:2\n",
            "Ingrese valor:12\n",
            "Mayor de la lista 12\n",
            "Suma de todos sus elementos 30\n"
          ]
        }
      ]
    },
    {
      "cell_type": "code",
      "source": [
        "# 21. Clases y Objetos\n",
        "\n",
        "# Aclaracion en este ejercicio no se usa un constructor init, porque no se esta usando un contador en caso de usar un contador o visdualizar un historial se complicaria oprque no esta definida el contador desde el inicio\n",
        "\n",
        "class Alumno:\n",
        "\n",
        "  def declarar (self, nombre, dato):\n",
        "    self.nombre=nombre\n",
        "    self.puntuacion=dato\n",
        "\n",
        "  def visualizar(self):\n",
        "    print(\"Nombre: \", self.nombre)\n",
        "    print(\"Puntuacion: \", self.puntuacion)\n",
        "\n",
        "  def estadistica (self):\n",
        "    if self.puntuacion <=4:\n",
        "      print(\"insuficiente\")\n",
        "    elif self.puntuacion >=5:\n",
        "      print(\"notable\")\n",
        "    elif self.puntuacion>=8:\n",
        "      print(\"sobresaliente\")\n",
        "    else:\n",
        "      print(\"dato errado\")\n",
        "\n",
        "# Bloque Principal\n",
        "\n",
        "alumno1= Alumno()\n",
        "alumno1.declarar(\"diego\",8)\n",
        "alumno1.visualizar()\n",
        "alumno1.estadistica()\n",
        "\n",
        "print(\"\\n\")\n",
        "\n",
        "alumno2= Alumno()\n",
        "alumno2.declarar(\"alejo\",2)\n",
        "alumno2.visualizar()\n",
        "alumno2.estadistica()\n",
        "\n",
        "\n",
        "\n",
        "\n"
      ],
      "metadata": {
        "id": "6ebyQC6u5H8l",
        "outputId": "7f335b1d-b151-4c52-8d36-026a9e54151e",
        "colab": {
          "base_uri": "https://localhost:8080/"
        }
      },
      "execution_count": null,
      "outputs": [
        {
          "output_type": "stream",
          "name": "stdout",
          "text": [
            "Nombre:  diego\n",
            "Puntuacion:  8\n",
            "notable\n",
            "\n",
            "\n",
            "Nombre:  alejo\n",
            "Puntuacion:  2\n",
            "insuficiente\n"
          ]
        }
      ]
    },
    {
      "cell_type": "code",
      "source": [
        "# 22. Clases y objetos\n",
        "# Metodo constructor de la clase : __init__\n",
        "# con el constructoer init, puedo usar variables a nivel global en cualquier funcion, adecuado para llevar un contador o crar un historial\n",
        "\n",
        "class Usuario:\n",
        "\n",
        "  def __init__(self):\n",
        "    self.usuario=\"\"\n",
        "    self.ingresos=0\n",
        "\n",
        "  def intro(self):\n",
        "    self.usuario=input(\"ingrese el nombre de usuario: \")\n",
        "    self.ingresos=float(input(\"ingrese cantidad de ingresos anual: \"))\n",
        "\n",
        "  def visualizar(self):\n",
        "    print(\"Nombre: \", self.usuario)\n",
        "    print(\"Ingresos: \", self.ingresos)\n",
        "\n",
        "  def fiscalidad (self):\n",
        "    if self.ingresos>45000000:\n",
        "      print(\"debe pagar impuestos\")\n",
        "    else:\n",
        "      print(\"no debe pagar impuestos\")\n",
        "\n",
        "\n",
        "# Bloque Principal\n",
        "\n",
        "\n",
        "usu1=Usuario()\n",
        "usu1.intro()\n",
        "usu1.visualizar()\n",
        "usu1.fiscalidad()\n",
        "\n",
        "\n",
        "\n",
        "\n",
        "\n",
        "\n",
        "\n",
        "\n"
      ],
      "metadata": {
        "id": "XD8uhHA9AFMx",
        "outputId": "3bf29760-1a2b-4195-b848-af809c8a05bb",
        "colab": {
          "base_uri": "https://localhost:8080/"
        }
      },
      "execution_count": null,
      "outputs": [
        {
          "output_type": "stream",
          "name": "stdout",
          "text": [
            "ingrese el nombre de usuario: pedro\n",
            "ingrese cantidad de ingresos anual: 44000000\n",
            "Nombre:  pedro\n",
            "Ingresos:  44000000.0\n",
            "no debe pagar impuestos\n"
          ]
        }
      ]
    },
    {
      "cell_type": "code",
      "source": [
        "# calculadora excelente para aprender\n",
        "\n",
        "class Calculadora:\n",
        "\n",
        "  def __init__(self):\n",
        "    self.contador=0\n",
        "\n",
        "  def operaciones_mat(self, a, b, oper):\n",
        "    self.contador=self.contador+1\n",
        "\n",
        "    if oper==\"suma\":\n",
        "      resultado = a+b\n",
        "      return resultado\n",
        "\n",
        "    elif oper==\"resta\":\n",
        "      resultado=a-b\n",
        "      return resultado\n",
        "\n",
        "    elif oper==\"multiplicacion\":\n",
        "      resultado= a*b\n",
        "      return resultado\n",
        "\n",
        "    elif oper==\"division\":\n",
        "      resultado=a/b\n",
        "      return resultado\n",
        "\n",
        "    else:\n",
        "      print(\"Operacion no valida\")\n",
        "\n",
        "  def cuantas_operaciones(self):\n",
        "    return self.contador\n",
        "\n",
        "# Codigo Base\n",
        "\n",
        "mi_calc1=Calculadora()\n",
        "print(\"la suma de 8+2 es:\", mi_calc1.operaciones_mat(8,2,\"suma\") )\n",
        "\n",
        "print(\"'n\")\n",
        "\n",
        "mi_calc2=Calculadora()\n",
        "print(\"la suma de 10+4 es: \", mi_calc2.operaciones_mat(10,4,\"suma\"))\n",
        "print(\"la multiplicacion de 10x4 es: \", mi_calc2.operaciones_mat(10,4,\"multiplicacion\"))\n",
        "print(\"la cantidad de operaciones es: \", mi_calc2.cuantas_operaciones())\n",
        "\n",
        "\n",
        "\n",
        "\n",
        "\n",
        "\n",
        "\n",
        "\n",
        "\n",
        "\n",
        "\n"
      ],
      "metadata": {
        "id": "53Y9u5xXHcA0",
        "outputId": "f6a7b3af-b942-4aa5-db5e-aa9c9237aefc",
        "colab": {
          "base_uri": "https://localhost:8080/"
        }
      },
      "execution_count": null,
      "outputs": [
        {
          "output_type": "stream",
          "name": "stdout",
          "text": [
            "la suma de 8+2 es: 10\n",
            "'n\n",
            "la suma de 10+4 es:  14\n",
            "la multiplicacion de 10x4 es:  40\n",
            "la cantidad de operaciones es:  2\n"
          ]
        }
      ]
    },
    {
      "cell_type": "code",
      "source": [
        "# 23. llamada de metodos desde otro metodo de la misma clase\n",
        "\n",
        "class Operacion:\n",
        "\n",
        "  def __init__(self):\n",
        "    self.valor1=0\n",
        "    self.valor2=0\n",
        "\n",
        "  def sumar(self):\n",
        "    res=self.valor1+self.valor2\n",
        "    print(\"La suma es: \", res)\n",
        "\n",
        "  def restar(self):\n",
        "    res=self.valor1-self.valor2\n",
        "    print(\"La resta es: \", res)\n",
        "\n",
        "  def multiplicar(self):\n",
        "    res=self.valor1*self.valor2\n",
        "    print(\"La multiplicacion es: \", res)\n",
        "\n",
        "  def dividir(self):\n",
        "    res=self.valor1/self.valor2\n",
        "    print(\"La division es: \", res)\n",
        "\n",
        "  def intro_valores(self):\n",
        "    self.valor1=int(input(\"Ingrese el primer valor: \"))\n",
        "    self.valor2=int(input(\"Ingrese el segundo valor: \"))\n",
        "\n",
        "  def main(self):\n",
        "    self.sumar()\n",
        "    self.restar()\n",
        "    self.multiplicar()\n",
        "    self.dividir()\n",
        "\n",
        "\n",
        "# Bloque Principal\n",
        "\n",
        "operacion1=Operacion()\n",
        "operacion1.intro_valores()\n",
        "operacion1.main()\n",
        "\n",
        "\n",
        "\n",
        "\n",
        "\n",
        "\n"
      ],
      "metadata": {
        "id": "BRAT4fLwDs_F",
        "outputId": "2fd451df-4156-49c9-bb58-dc4adb5e40d6",
        "colab": {
          "base_uri": "https://localhost:8080/"
        }
      },
      "execution_count": null,
      "outputs": [
        {
          "output_type": "stream",
          "name": "stdout",
          "text": [
            "Ingrese el primer valor: 4\n",
            "Ingrese el segundo valor: 2\n",
            "La suma es:  6\n",
            "La resta es:  2\n",
            "La multiplicacion es:  8\n",
            "La division es:  2.0\n"
          ]
        }
      ]
    },
    {
      "cell_type": "code",
      "source": [
        "# Ejercicio 2\n",
        "\n",
        "class Alumnos:\n",
        "\n",
        "  def __init__(self):\n",
        "    self.nombre=[]\n",
        "    self.nota=[]\n",
        "\n",
        "  def menu(self):\n",
        "    opcion=0\n",
        "    while opcion!=4: # ingresa en el bucle siempre y cuando no sea 4, si por ejemplo le das 5 u otro numero vuleve a mostrar el menu\n",
        "      print(\"MENU\")\n",
        "      print(\"1- Cargar alumnos\")\n",
        "      print(\"2- Listar aumnos\")\n",
        "      print(\"3- Listado de alumnos con notas mayores o iguales a 7\")\n",
        "      print(\"4- Finalizar programa\")\n",
        "      opcion=int(input(\"Ingrese su opcion: \"))\n",
        "      if opcion==1:\n",
        "        self.cargar()\n",
        "      elif opcion==2:\n",
        "        self.listar()\n",
        "      elif opcion==3:\n",
        "        self.notas_altas()\n",
        "\n",
        "  def cargar(self):\n",
        "    for i in range(5):\n",
        "      nom=input(\"Ingrese nombre del alumno: \")\n",
        "      self.nombre.append(nom)\n",
        "      no=int(input(\"Ingrese nota del alumno: \"))\n",
        "      self.nota.append(no)\n",
        "\n",
        "  def listar(self):\n",
        "     print(\"Listado completo de alumnos\")\n",
        "     for i in range(5):\n",
        "        print(self.nombre[i],self.nota[i])\n",
        "     print(\"__________________\")\n",
        "\n",
        "  def notas_altas(self):\n",
        "     print(\"Alumnos con notas superiores o iguales a 7\")\n",
        "     for i in range(5):\n",
        "      if self.nota[i]>=7:\n",
        "        print(self.nombre[i], self.nota[i])\n",
        "     print(\"_____________________\")\n",
        "\n",
        "# Bloque Principal\n",
        "\n",
        "alumnos=Alumnos()\n",
        "alumnos.menu()\n",
        "\n",
        "\n",
        "\n",
        "\n"
      ],
      "metadata": {
        "id": "tp8T5Ir1QW7l"
      },
      "execution_count": null,
      "outputs": []
    },
    {
      "cell_type": "code",
      "source": [
        "# 23.1 Polimorfismo en clases\n",
        "\n",
        "\"\"\"En Python\n",
        "\n",
        "El polimorfismo permite que:\n",
        "\n",
        "2. Diferentes clases tengan un método con el mismo nombre, pero implementado de forma distinta.\n",
        "3. Al invocar ese método con el mismo nombre, debemos definir a que objeto(\"clase\") hacemos referencia, nostros le decimos a Python cuál clase usar para invocar el metodo que deseamos.\"\"\"\n",
        "\n",
        "\n",
        "\n",
        "# Hay dos clases con el mismo nombre de metodo \"sonido\"\n",
        "class Perro:\n",
        "    def sonido(self):\n",
        "        return \"Guau 🐶\"\n",
        "\n",
        "class Gato:\n",
        "    def sonido(self):\n",
        "        return \"Miau 🐱\"\n",
        "\n",
        "# Uso polimórfico\n",
        "# con este metodo estoy esperando en la variable animal me confirmen que clase debo tener en cuenta dado que las dos clases tienen dos metodos con el mismo nombre\n",
        "def hacer_sonido(animal):\n",
        "    print(animal.sonido())\n",
        "\n",
        "# Bloque Principal\n",
        "# Creamos objetos\n",
        "perro = Perro()\n",
        "gato = Gato()\n",
        "\n",
        "hacer_sonido(perro)  # Guau 🐶\n",
        "hacer_sonido(gato)   # Miau 🐱\n",
        "\n",
        "\n"
      ],
      "metadata": {
        "id": "6v3LzbqfdPoC",
        "outputId": "a49b1484-a42d-43cd-ce40-7246faa45f6a",
        "colab": {
          "base_uri": "https://localhost:8080/"
        }
      },
      "execution_count": null,
      "outputs": [
        {
          "output_type": "stream",
          "name": "stdout",
          "text": [
            "Guau 🐶\n",
            "Miau 🐱\n"
          ]
        }
      ]
    },
    {
      "cell_type": "code",
      "source": [
        "# 24. Colaboracion entre clases\n",
        "\n",
        "class Cliente:\n",
        "\n",
        "  def __init__(self, nombre):\n",
        "    self.nombre=nombre\n",
        "    self.monto=0\n",
        "\n",
        "  def depositar(self, monto):\n",
        "    self.monto=self.monto+monto\n",
        "\n",
        "  def retirar(self, monto):\n",
        "    self.monto=self.monto-monto\n",
        "\n",
        "  def retornar_saldo(self):\n",
        "    return self.monto\n",
        "\n",
        "  def imprimir(self):\n",
        "    print(self.nombre, \"tiene depositado la suma de \", self.monto)\n",
        "\n",
        "\n",
        "\n",
        "class Banco:\n",
        "\n",
        "  def __init__(self):\n",
        "    self.cliente1=Cliente(\"robert\")\n",
        "    self.cliente2=Cliente(\"elena\")\n",
        "    self.cliente3=Cliente(\"norber\")\n",
        "\n",
        "  def operar(self):\n",
        "    self.cliente1.depositar(100)\n",
        "    self.cliente2.depositar(150)\n",
        "    self.cliente3.depositar(200)\n",
        "    self.cliente3.retirar(150)\n",
        "\n",
        "  def depositos_totales(self):\n",
        "    total=self.cliente1.retornar_saldo()+self.cliente2.retornar_saldo()+self.cliente3.retornar_saldo()\n",
        "    print(\"El total de dinero del banco es: \", total)\n",
        "    self.cliente1.imprimir()\n",
        "    self.cliente2.imprimir()\n",
        "    self.cliente3.imprimir()\n",
        "\n",
        "# Bloque Principal\n",
        "\n",
        "banco1=Banco()\n",
        "banco1.operar()\n",
        "banco1.depositos_totales()\n",
        "\n",
        "\n",
        "\n"
      ],
      "metadata": {
        "id": "WQJ1JVcQt7py",
        "outputId": "6b84474e-7398-4c6b-b072-0c4cabb94181",
        "colab": {
          "base_uri": "https://localhost:8080/"
        }
      },
      "execution_count": null,
      "outputs": [
        {
          "output_type": "stream",
          "name": "stdout",
          "text": [
            "El total de dinero del banco es:  300\n",
            "juan tiene depositado la suma de  100\n",
            "ana tiene depositado la suma de  150\n",
            "diego tiene depositado la suma de  50\n"
          ]
        }
      ]
    },
    {
      "cell_type": "code",
      "source": [
        "# Ejercicio 2\n",
        "\n",
        "class Cliente:\n",
        "\n",
        "    def __init__(self, nombre):\n",
        "      self.nombre=nombre\n",
        "      self.monto=0\n",
        "\n",
        "    def depositar(self, monto):\n",
        "      self.monto=self.monto+monto\n",
        "\n",
        "    def retirar(self, monto):\n",
        "      self.monto=self.monto-monto\n",
        "\n",
        "    def retornar_monto(self):\n",
        "      return self.monto\n",
        "\n",
        "    def imprimir(self):\n",
        "      print(self.nombre, \"tiene depósitado: \", self.monto)\n",
        "\n",
        "class Bancos:\n",
        "    def __init__(self):\n",
        "      self.cliente1=Cliente(\"rober\") # el contructor de la Clase Clientes inicializa con con los nombres (rober, mari, norber)\n",
        "      self.cliente2=Cliente(\"mari\")\n",
        "      self.cliente3=Cliente(\"norber\")\n",
        "\n",
        "    def operar(self):\n",
        "      self.cliente1.depositar(100)\n",
        "      self.cliente2.depositar(150)\n",
        "      self.cliente3.depositar(200)\n",
        "      self.cliente3.retirar(30)\n",
        "\n",
        "    def depositos_totales(self):\n",
        "      total=self.cliente1.retornar_monto()+self.cliente2.retornar_monto()+self.cliente3.retornar_monto()\n",
        "      print(\"el total del dinero del bancop es: \", total)\n",
        "      self.cliente1.imprimir()\n",
        "      self.cliente2.imprimir()\n",
        "      self.cliente3.imprimir()\n",
        "\n",
        "# Bloque Principal\n",
        "\n",
        "banco1=Bancos()\n",
        "banco1.operar()\n",
        "banco1.depositos_totales()\n",
        "\n",
        "\n",
        "\n"
      ],
      "metadata": {
        "id": "EavY6Pcb51b7",
        "outputId": "00ea568f-3a5e-41f9-e971-8501b484db21",
        "colab": {
          "base_uri": "https://localhost:8080/"
        }
      },
      "execution_count": null,
      "outputs": [
        {
          "output_type": "stream",
          "name": "stdout",
          "text": [
            "el total del dinero del bancop es:  420\n",
            "rober tiene depósitado:  100\n",
            "mari tiene depósitado:  150\n",
            "norber tiene depósitado:  170\n"
          ]
        }
      ]
    },
    {
      "cell_type": "code",
      "source": [
        "# Herencia\n",
        "\n",
        "class Operacion:\n",
        "\n",
        "  def __init__(self):\n",
        "    self.valor1=0\n",
        "    self.valor2=0\n",
        "    self.resultado=0\n",
        "\n",
        "  def cargar(self):\n",
        "    self.valor1=int(input(\"Ingrese el primer valor: \"))\n",
        "    self.valor2=int(input(\"Ingrfese el segundo numero\"))\n",
        "\n",
        "  def mostrar_resultado(self):\n",
        "    print(self.resultado)\n",
        "\n",
        "\n",
        "class Suma(Operacion):\n",
        "\n",
        "    def operar(self):\n",
        "      self.resultado=self.valor1+self.valor2\n",
        "\n",
        "class Resta(Operacion):\n",
        "    def operar(self):\n",
        "      self.resultado= self.valor1-self.valor2\n",
        "\n",
        "# Bloque Basico\n",
        "\n",
        "suma=Suma()\n",
        "suma.cargar()\n",
        "suma.operar()\n",
        "suma.mostrar_resultado()\n",
        "\n",
        "\n",
        "\n",
        "\n",
        "\n",
        "\n",
        "\n",
        "\n",
        "\n",
        "\n"
      ],
      "metadata": {
        "id": "5BIknuHv9VW5",
        "outputId": "9561f0e7-efe7-44d5-e8b7-58820143b05b",
        "colab": {
          "base_uri": "https://localhost:8080/"
        }
      },
      "execution_count": null,
      "outputs": [
        {
          "output_type": "stream",
          "name": "stdout",
          "text": [
            "Ingrese el primer valor: 15\n",
            "Ingrfese el segundo numero3\n",
            "18\n"
          ]
        }
      ]
    },
    {
      "cell_type": "code",
      "source": [
        "# Ejercicio 2\n",
        "\n",
        "class Operacion:\n",
        "\n",
        "  def __init__(self):\n",
        "    self.valor1=0\n",
        "    self.valor2=0\n",
        "    self.resultado=0\n",
        "\n",
        "  def cargar (self):\n",
        "    self.valor1=int(input(\"Digite el primer valor: \"))\n",
        "    self.valor2=int(input(\"Digite el segundo valor: \"))\n",
        "\n",
        "  def mostrar_resultado(self):\n",
        "    print(\"El resultado de la operacion es: \", self.resultado)\n",
        "\n",
        "\n",
        "class Suma(Operacion):\n",
        "\n",
        "  def operar(self):\n",
        "    self.resultado=self.valor1+self.valor2\n",
        "\n",
        "class Resta(Operacion):\n",
        "\n",
        "  def operar(self):\n",
        "    self.resultado=self.valor1-self.valor2\n",
        "\n",
        "\n",
        "suma=Suma()\n",
        "suma.cargar()\n",
        "suma.operar()\n",
        "suma.mostrar_resultado()\n",
        "\n",
        "resta= Resta()\n",
        "resta.cargar()\n",
        "resta.operar()\n",
        "resta.mostrar_resultado()\n",
        "\n"
      ],
      "metadata": {
        "id": "jojW2_XXS6bA",
        "outputId": "cff23a46-ebb9-4657-80df-9560860c4883",
        "colab": {
          "base_uri": "https://localhost:8080/"
        }
      },
      "execution_count": null,
      "outputs": [
        {
          "output_type": "stream",
          "name": "stdout",
          "text": [
            "Digite el primer valor: 7\n",
            "Digite el segundo valor: 5\n",
            "El resultado de la operacion es:  12\n",
            "Digite el primer valor: 5\n",
            "Digite el segundo valor: 3\n",
            "El resultado de la operacion es:  2\n"
          ]
        }
      ]
    },
    {
      "cell_type": "code",
      "source": [
        "# 26 Variables de Clase\n",
        "\n",
        "class Cliente:\n",
        "  suspendidos=[] # Variable de clase, debe ir antes de los metodos\n",
        "\n",
        "  def __init__(self, codigo,nombre):\n",
        "    self.codigo=codigo\n",
        "    self.nombre=nombre\n",
        "\n",
        "  def imprimir (self):\n",
        "    print(\"Codigo: \", self.codigo)\n",
        "    print(\"Nombre: \", self.nombre)\n",
        "    self.esta_suspendido()\n",
        "\n",
        "  def esta_suspendido(self):\n",
        "    if self.codigo in Cliente.suspendidos:\n",
        "       print(\"El cliente esta suspendido\", self.nombre)\n",
        "    else:\n",
        "       print(\"El cliente no esta suspendido\", self.nombre)\n",
        "\n",
        "  def suspender(self):\n",
        "    Cliente.suspendidos.append(self.codigo)\n",
        "\n",
        "\n",
        "# Bloque Principal\n",
        "\n",
        "cliente1=Cliente(1, \"juan\")\n",
        "cliente2=Cliente(2, \"pedro\")\n",
        "cliente3=Cliente(3, \"maria\")\n",
        "cliente4=Cliente(4, \"ana\")\n",
        "\n",
        "cliente3.suspender()\n",
        "cliente4.suspender()\n",
        "\n",
        "cliente1.imprimir()\n",
        "cliente2.imprimir()\n",
        "cliente3.imprimir()\n",
        "cliente4.imprimir()\n",
        "\n",
        "print(Cliente.suspendidos)\n",
        "\n",
        "cliente1.esta_suspendido()\n",
        "cliente2.esta_suspendido()\n"
      ],
      "metadata": {
        "colab": {
          "base_uri": "https://localhost:8080/"
        },
        "id": "YP7UY2AnVC9s",
        "outputId": "515c3781-35fd-4f12-ee4f-942d1db8824e"
      },
      "execution_count": null,
      "outputs": [
        {
          "output_type": "stream",
          "name": "stdout",
          "text": [
            "Codigo:  1\n",
            "Nombre:  juan\n",
            "El cliente no esta suspendido juan\n",
            "Codigo:  2\n",
            "Nombre:  pedro\n",
            "El cliente no esta suspendido pedro\n",
            "Codigo:  3\n",
            "Nombre:  maria\n",
            "El cliente esta suspendido maria\n",
            "Codigo:  4\n",
            "Nombre:  ana\n",
            "El cliente esta suspendido ana\n",
            "[3, 4]\n",
            "El cliente no esta suspendido juan\n",
            "El cliente no esta suspendido pedro\n"
          ]
        }
      ]
    },
    {
      "cell_type": "code",
      "source": [
        "# 27. Metodo STR\n",
        "\n",
        "\n",
        "class Familia:\n",
        "\n",
        "  def __init__(self, padre, madre,hijos=[]):\n",
        "    self.padre=padre\n",
        "    self.madre=madre\n",
        "    self.hijos=hijos\n",
        "\n",
        "  def __str__(self):\n",
        "    cadena=self.padre+\",\"+self.madre\n",
        "    for hi in self.hijos:\n",
        "      cadena=cadena+\",\"+hi\n",
        "    return cadena\n",
        "\n",
        "# Bloque Principal\n",
        "\n",
        "familia1=Familia(\"pablo\", \"ana\",[\"pepe\", \"julio\"])\n",
        "familia2=Familia(\"jorge\",\"carla\")\n",
        "familia3=Familia(\"luis\",\"maria\",[\"marcos\"])\n",
        "\n",
        "print(familia1)\n",
        "print(familia2)\n",
        "print(familia3)\n"
      ],
      "metadata": {
        "colab": {
          "base_uri": "https://localhost:8080/"
        },
        "id": "u2OTfjaQGgB5",
        "outputId": "bb65a659-4fa5-4b88-f6ac-384e1cb4e51d"
      },
      "execution_count": null,
      "outputs": [
        {
          "output_type": "stream",
          "name": "stdout",
          "text": [
            "pablo,ana,pepe,julio\n",
            "jorge,carla\n",
            "luis,maria,marcos\n"
          ]
        }
      ]
    },
    {
      "cell_type": "code",
      "source": [
        "# Ejericicio 2, entendiendo STR - sin el metodo STR\n",
        "\n",
        "class Perro:\n",
        "\n",
        "  def __init__(self, nombre):\n",
        "    self.nombre=nombre\n",
        "\n",
        "  def imprimir(self):\n",
        "    print(self.nombre)\n",
        "\n",
        "\n",
        "mi_perro=Perro(\"Max\")\n",
        "mi_perro2=Perro(\"Lucas\")\n",
        "\n",
        "mi_perro.imprimir() # Tiene que recordad llamar el metodo, mientras que en STR no es necesario, cada vez que llame la clase dentro del bloque principal con un print, automaticamente este imprime lo que esta definido en el STR\n",
        "mi_perro2.imprimir()\n",
        "\n",
        "# sin str python no sabe que imprimir entonces imprime algo raro como <__main__.Perro object at 0x1234567>\n",
        "\n",
        "\n",
        "\n"
      ],
      "metadata": {
        "colab": {
          "base_uri": "https://localhost:8080/"
        },
        "id": "E1_oQuprMOxV",
        "outputId": "17ab1c13-60d3-47ad-e6bd-e8d1efede82c"
      },
      "execution_count": null,
      "outputs": [
        {
          "output_type": "stream",
          "name": "stdout",
          "text": [
            "Max\n",
            "Lucas\n"
          ]
        }
      ]
    },
    {
      "cell_type": "code",
      "source": [
        "# Ejercicio 3 con metodo STR\n",
        "\n",
        "class Perro:\n",
        "\n",
        "  def __init__(self, nombre, edad):\n",
        "    self.nombre=nombre\n",
        "    self.edad=edad\n",
        "\n",
        "  def __str__(self):\n",
        "    return f\"{self.nombre}, {self.edad}\" # Return a formatted string\n",
        "\n",
        "\n",
        "mi_perro=Perro(\"Max\", 3)\n",
        "mi_perro1=Perro(\"Lucas\", 5)\n",
        "print(mi_perro)\n",
        "print(mi_perro1)\n",
        "\n",
        "\n"
      ],
      "metadata": {
        "colab": {
          "base_uri": "https://localhost:8080/"
        },
        "id": "mMQ8tYlSNPDX",
        "outputId": "8930762f-a942-4365-d45d-30b2f66e0546"
      },
      "execution_count": null,
      "outputs": [
        {
          "output_type": "stream",
          "name": "stdout",
          "text": [
            "Max, 3\n",
            "Lucas, 5\n"
          ]
        }
      ]
    },
    {
      "cell_type": "code",
      "source": [
        "# 28. Redefinicion de los operadores matematicos con objetos\n",
        "\n",
        "class Operadores:\n",
        "\n",
        "  def __init__(self, lista):\n",
        "    self.lista=lista\n",
        "\n",
        "  def visualizar(self):\n",
        "    print(self.lista)\n",
        "\n",
        "  def __add__(self, entero):\n",
        "    nueva=[]\n",
        "    for i in range(len(self.lista)):\n",
        "      nueva.append(self.lista[i]+entero)\n",
        "    return nueva\n",
        "\n",
        "  def __sub__(self, entero):\n",
        "    nueva=[]\n",
        "    for i in range(len(self.lista)):\n",
        "      nueva.append(self.lista[i]-entero)\n",
        "    return nueva\n",
        "\n",
        "  def __mul__(self, entero):\n",
        "    nueva=[]\n",
        "    for i in range(len(self.lista)):\n",
        "      nueva.append(self.lista[i]*entero)\n",
        "    return nueva\n",
        "\n",
        "  def __truediv__(self, entero):\n",
        "    nueva=[]\n",
        "    for i in range(len(self.lista)):\n",
        "      nueva.append(self.lista[i]/entero)\n",
        "    return nueva\n",
        "\n",
        "# Bloque principal\n",
        "\n",
        "datos=Operadores([19,23,58])\n",
        "datos.visualizar()\n",
        "print(datos+2)\n",
        "print(datos-2)\n",
        "print(datos*2)\n",
        "print(datos/2)\n",
        "\n",
        "\n",
        "\n",
        "\n"
      ],
      "metadata": {
        "id": "Kg7Qzl-OXgm0",
        "outputId": "55052810-f69d-4866-c6b5-c1d42e2e7a76",
        "colab": {
          "base_uri": "https://localhost:8080/"
        }
      },
      "execution_count": null,
      "outputs": [
        {
          "output_type": "stream",
          "name": "stdout",
          "text": [
            "[19, 23, 58]\n",
            "[21, 25, 60]\n",
            "[17, 21, 56]\n",
            "[38, 46, 116]\n",
            "[9.5, 11.5, 29.0]\n"
          ]
        }
      ]
    },
    {
      "cell_type": "code",
      "source": [
        "# 29. Redefinicion de los operadores relacionales con objetos\n",
        "\n",
        "class Persona():\n",
        "\n",
        "  def __init__(self, nombre, edad):\n",
        "    self.nombre=nombre\n",
        "    self.edad=edad\n",
        "\n",
        "  def __eq__(self, objeto2):\n",
        "    if self.edad==objeto2.edad:\n",
        "      return True\n",
        "    else:\n",
        "      return False\n",
        "\n",
        "  def __ne__(self, objeto2):\n",
        "    if self.edad!=objeto2.edad:\n",
        "      return True\n",
        "    else:\n",
        "      return False\n",
        "\n",
        "  def __lt__(self, objeto2):\n",
        "    if self.edad>objeto2.edad:\n",
        "      return True\n",
        "    else:\n",
        "      return False\n",
        "\n",
        "  def __le__(self, objeto2):\n",
        "    if self.edad<objeto2.edad:\n",
        "      return True\n",
        "    else:\n",
        "      return False\n",
        "\n",
        "  def __gt__(self, objeto2):\n",
        "    if self.edad<objeto2.edad:\n",
        "      return True\n",
        "    else:\n",
        "      return False\n",
        "\n",
        "  def __ge__(self, objeto2):\n",
        "    if self.edad<=objeto2.edad:\n",
        "      return True\n",
        "\n",
        "\n",
        "# Bloque principal\n",
        "\n",
        "persona1=Persona(\"juan\", 20)\n",
        "persona2=Persona(\"ana\", 20)\n",
        "if persona1==persona2:\n",
        "  print(\"persona1 mapy\")\n",
        "else:\n",
        "  print(\"No tienen la misma edad\")\n",
        "\n",
        "\n"
      ],
      "metadata": {
        "id": "WOzMYp4ABs7I",
        "outputId": "8e048e13-9dc0-4116-8c8c-5d8665c2d120",
        "colab": {
          "base_uri": "https://localhost:8080/"
        }
      },
      "execution_count": null,
      "outputs": [
        {
          "output_type": "stream",
          "name": "stdout",
          "text": [
            "persona1 mapy\n"
          ]
        }
      ]
    },
    {
      "cell_type": "code",
      "source": [
        "# Ejercicio 2\n",
        "\n",
        "#Importante mencionar que este ejericcio al usar los operadores ej: __eq__(), este comienza a identificar constructor por constructor hasta encontar el operador y los datos que cunplan esa condicion\n",
        "\n",
        "class Persona:\n",
        "\n",
        "    def __init__(self,nombre, edad):\n",
        "        self.nombre=nombre\n",
        "        self.edad=edad\n",
        "\n",
        "    def __eq__(self,objeto2):\n",
        "        if self.edad==objeto2.edad:\n",
        "            return True\n",
        "        else:\n",
        "            return False\n",
        "\n",
        "    def __ne__(self,objeto2):\n",
        "        if self.edad!=objeto2.edad:\n",
        "            return True\n",
        "        else:\n",
        "            return False\n",
        "\n",
        "    def __gt__(self,objeto2):\n",
        "        if self.edad>objeto2.edad:\n",
        "            return True\n",
        "        else:\n",
        "            return False\n",
        "\n",
        "    def __ge__(self,objeto2):\n",
        "        if self.edad>=objeto2.edad:\n",
        "            return True\n",
        "        else:\n",
        "            return False\n",
        "\n",
        "    def __lt__(self,objeto2):\n",
        "        if self.edad<objeto2.edad:\n",
        "            return True\n",
        "        else:\n",
        "            return False\n",
        "\n",
        "    def __le__(self,objeto2):\n",
        "        if self.edad<=objeto2.edad:\n",
        "            return True\n",
        "        else:\n",
        "            return False\n",
        "\n",
        "# bloque principal\n",
        "\n",
        "persona1=Persona('juan',28)\n",
        "persona2=Persona('ana',25)\n",
        "if persona1>persona2:\n",
        "    print(\"Las dos personas tienen la misma edad.\")\n",
        "else:\n",
        "    print(\"No tienen la misma edad.\")"
      ],
      "metadata": {
        "id": "Lz6LZ7QhKbw-",
        "outputId": "937c57fe-f200-4d4d-e9c6-5338e7a0e364",
        "colab": {
          "base_uri": "https://localhost:8080/"
        }
      },
      "execution_count": null,
      "outputs": [
        {
          "output_type": "stream",
          "name": "stdout",
          "text": [
            "Las dos personas tienen la misma edad.\n"
          ]
        }
      ]
    },
    {
      "cell_type": "code",
      "source": [
        "# 30. Objeto FILE Trabajando con archivos\n",
        "\n",
        "\"\"\"\"r+ \"Modificar archivo existente sin perder contenido\"\n",
        "    w+ \"Empezar archivo desde cero (¡CUIDADO: borra todo!)\"\n",
        "    a  \"Solo agregar al final, preservando todo \"\"\"\n",
        "\n",
        "\n",
        "# Ejercicio que coloca texto al final del archivo plano\n",
        "\n",
        "archivo = open(\"/content/archivo.txt\", \"r+\") # w+ sobreescibe, lectura y escribe, r+ lectura y escritura no sobre escribe\n",
        "\n",
        "contenido = archivo.read()\n",
        "final_de_archivo = archivo.tell()\n",
        "\n",
        "archivo.seek(final_de_archivo) # ir al final del archivo\n",
        "archivo.write('Nueva linea 5\\n') #\\n al final  para la nueva linea\n",
        "\n",
        "\n",
        "nuevo_contenido = archivo.read()\n",
        "\n",
        "archivo.close()\n",
        "\n",
        "\n",
        "print (nuevo_contenido)\n",
        "# Nueva linea\n",
        "\n"
      ],
      "metadata": {
        "id": "jpQ4XrFELjsS",
        "outputId": "8f495a01-aa61-4662-c168-86295eedf946",
        "colab": {
          "base_uri": "https://localhost:8080/"
        }
      },
      "execution_count": null,
      "outputs": [
        {
          "output_type": "stream",
          "name": "stdout",
          "text": [
            "\n"
          ]
        }
      ]
    },
    {
      "cell_type": "code",
      "source": [
        "# Ejercicio anterior, pero con codigo mas simple - Excelente para archivos planos menejo de lectura y escritura de archivos\n",
        "\n",
        "# 1. Escribir\n",
        "with open(\"/content/archivo.txt\", \"a\") as archivo:\n",
        "  archivo.write(\"linea 8\\n\")\n",
        "\n",
        "# 2. Leer\n",
        "with open(\"/content/archivo.txt\", \"r\") as archivo:\n",
        "  nuevo_contenido = archivo.read()\n",
        "\n",
        "#print(nuevo_contenido) # muestra toda la info del txt\n",
        "\n",
        "\n"
      ],
      "metadata": {
        "id": "XP_rSBiGXNhx"
      },
      "execution_count": null,
      "outputs": []
    },
    {
      "cell_type": "code",
      "source": [
        "# Ejercicio 2\n",
        "\n",
        "archivo = open(\"/content/archivo2.txt\", \"w+\")\n",
        "selection = input('introduce el texto para el archivo:')\n",
        "contenido = archivo.read()\n",
        "final_de_archivo = archivo.tell()\n",
        "\n",
        "archivo.write(selection)\n",
        "archivo.seek(final_de_archivo)\n",
        "nuevo_contenido = archivo.read()\n",
        "\n",
        "archivo.close()\n",
        "\n",
        "\n",
        "print (nuevo_contenido)\n",
        "# Nueva linea"
      ],
      "metadata": {
        "id": "qRZnTZ88RN4r",
        "outputId": "03616f92-256b-49b2-dbb5-b24eea3318ef",
        "colab": {
          "base_uri": "https://localhost:8080/"
        }
      },
      "execution_count": 20,
      "outputs": [
        {
          "output_type": "stream",
          "name": "stdout",
          "text": [
            "introduce el texto para el archivo:hola a todos\n",
            "hola a todos\n"
          ]
        }
      ]
    },
    {
      "cell_type": "code",
      "source": [
        "# Ejemplo 2  anterior mejorado\n",
        "\n",
        "selection=input('introduce el texto para el archivo:')\n",
        "\n",
        "# 1. Escribir\n",
        "with open(\"/content/archivo3.txt\", \"w+\") as archivo:\n",
        "  archivo.write(selection)\n",
        "\n",
        "# No es obligatorio pero si quieres leer para luego imprimir\n",
        "\n",
        "with open(\"/content/archivo3.txt\", \"r\") as archivo:\n",
        "  nuevo_contenido = archivo.read()\n",
        "\n",
        "print(nuevo_contenido)\n",
        "\n"
      ],
      "metadata": {
        "id": "YwMx0AS9b2w-",
        "outputId": "52ccd291-ab5f-4974-cf80-35cec41db017",
        "colab": {
          "base_uri": "https://localhost:8080/"
        }
      },
      "execution_count": 22,
      "outputs": [
        {
          "output_type": "stream",
          "name": "stdout",
          "text": [
            "introduce el texto para el archivo:hola nuvamente a todos 3\n",
            "hola nuvamente a todos 3\n"
          ]
        }
      ]
    },
    {
      "cell_type": "code",
      "source": [
        "# Ejemplo con listas\n",
        "\n",
        "# Escribir lista\n",
        "lista = ['Línea 1\\n', 'Línea 2\\n']\n",
        "\n",
        "with open(\"archivo4.txt\", \"a\") as archivo:  # Crear archivo nuevo\n",
        "    archivo.writelines(lista)\n",
        "\n",
        "# Leer línea por línea\n",
        "with open(\"archivo.txt\", \"r\") as archivo:\n",
        "    print(archivo.readline().strip())  # Línea 1\n",
        "    print(archivo.readline().strip())  # Línea 2\n",
        "\n",
        "\n",
        "\n"
      ],
      "metadata": {
        "id": "2jxvTsXifW8Y",
        "outputId": "b86728ff-1675-49cc-86c0-d4148a9ee23c",
        "colab": {
          "base_uri": "https://localhost:8080/"
        }
      },
      "execution_count": 28,
      "outputs": [
        {
          "output_type": "stream",
          "name": "stdout",
          "text": [
            "Permisos a grupos resolutores Comunidad Bienestar\n",
            "\n"
          ]
        }
      ]
    },
    {
      "cell_type": "code",
      "source": [
        "# 31. envio de correos desde Python\n",
        "\"\"\"\n",
        "# Con Outlook (acepta contraseña normal)\n",
        "server = smtplib.SMTP(\"smtp-mail.outlook.com\", 587)\n",
        "\n",
        "\"\"\"\n",
        "\n",
        "import smtplib\n",
        "\n",
        "remitente=\"ingenieriasistemasnd@gmail.com\"\n",
        "destinatario=\"ingenieriasistemasnd@gmail.com\"\n",
        "msg=\"Que hace mi pegooooo\"\n",
        "\n",
        "# Datos\n",
        "username=\"ingenieriasistemasnd@gmail.com\"\n",
        "password=\"vvfd zuea uvqs fzod\"\n",
        "\n",
        "#Enviando el correo\n",
        "\n",
        "server=smtplib.SMTP(\"smtp.gmail.com\", 587)\n",
        "server.starttls()\n",
        "server.login(username, password)\n",
        "server.sendmail(remitente, destinatario, msg)\n",
        "server.quit()\n",
        "\n",
        "\n",
        "\n"
      ],
      "metadata": {
        "id": "JGe-P6wKRPWp",
        "outputId": "5ab3a404-a048-4482-b876-94a499bb1d12",
        "colab": {
          "base_uri": "https://localhost:8080/"
        }
      },
      "execution_count": 30,
      "outputs": [
        {
          "output_type": "execute_result",
          "data": {
            "text/plain": [
              "(221,\n",
              " b'2.0.0 closing connection 8926c6da1cb9f-511f2efab95sm309822173.2 - gsmtp')"
            ]
          },
          "metadata": {},
          "execution_count": 30
        }
      ]
    },
    {
      "cell_type": "code",
      "source": [
        "# Ejercicio mejorado\n",
        "\n",
        "import smtplib\n",
        "from email.mime.text import MIMEText\n",
        "from email.mime.multipart import MIMEMultipart\n",
        "\n",
        "# Configuración\n",
        "remitente = \"ingenieriasistemasnd@gmail.com\"\n",
        "destinatario = \"perezdelta@hotmail.com\"\n",
        "username = \"ingenieriasistemasnd@gmail.com\"\n",
        "password = \"vvfd zuea uvqs fzod\"  # Necesitas generar esta contraseña\n",
        "\n",
        "# Crear el mensaje\n",
        "msg = MIMEMultipart()\n",
        "msg['From'] = remitente\n",
        "msg['To'] = destinatario\n",
        "msg['Subject'] = \"Prueba de correo desde Python\"\n",
        "\n",
        "# Cuerpo del mensaje\n",
        "cuerpo = \"Que hace mi pegooooo\"\n",
        "msg.attach(MIMEText(cuerpo, 'plain'))\n",
        "\n",
        "try:\n",
        "    # Enviando el correo\n",
        "    server = smtplib.SMTP(\"smtp.gmail.com\", 587)\n",
        "    server.starttls()\n",
        "    server.login(username, password)\n",
        "    server.sendmail(remitente, destinatario, msg.as_string())\n",
        "    server.quit()\n",
        "    print(\"Correo enviado exitosamente!\")\n",
        "\n",
        "except Exception as e:\n",
        "    print(f\"Error al enviar correo: {e}\")\n"
      ],
      "metadata": {
        "id": "M_xBdAsWfZFm",
        "outputId": "83892001-cb90-4436-9914-a00750328848",
        "colab": {
          "base_uri": "https://localhost:8080/"
        }
      },
      "execution_count": 32,
      "outputs": [
        {
          "output_type": "stream",
          "name": "stdout",
          "text": [
            "Correo enviado exitosamente!\n"
          ]
        }
      ]
    },
    {
      "cell_type": "code",
      "source": [
        "# Enviar correo desde outlook\n",
        "\n",
        "\n",
        "\"\"\"\n",
        "# Con Outlook (acepta contraseña normal)\n",
        "server = smtplib.SMTP(\"smtp-mail.outlook.com\", 587)\n",
        "\n",
        "\"\"\"\n",
        "\n",
        "import smtplib\n",
        "\n",
        "remitente=\"perezdelta@hotmail.com\"\n",
        "destinatario=\"ingenieriasistemasnd@gmail.com\"\n",
        "msg=\"Que hace mi pegooooo\"\n",
        "\n",
        "# Datos\n",
        "username=\"perezdelta@hotmail.com\"\n",
        "password=\"wcorvuufzoiwzwul\"\n",
        "\n",
        "#Enviando el correo\n",
        "\n",
        "server=smtplib.SMTP(\"smtp-mail.outlook.com\", 587)\n",
        "server.starttls()\n",
        "server.login(username, password)\n",
        "server.sendmail(remitente, destinatario, msg)\n",
        "print(\"Correo enviado\")\n",
        "server.quit()\n",
        "\n"
      ],
      "metadata": {
        "id": "TR0ZyFAmo8NY"
      },
      "execution_count": null,
      "outputs": []
    },
    {
      "cell_type": "code",
      "source": [
        "import smtplib\n",
        "from email.mime.text import MIMEText\n",
        "from email.mime.multipart import MIMEMultipart\n",
        "\n",
        "# Cambiar a Outlook\n",
        "remitente = \"perezdelta@hotmail.com\"  # o @outlook.com\n",
        "destinatario = \"perezdelta@hotmail.com\"\n",
        "username = \"perezdelta@hotmail.com\"\n",
        "password = \"pptlcgiectelmchv\"  # Outlook sí acepta contraseña normal\n",
        "\n",
        "msg = MIMEMultipart()\n",
        "msg['From'] = remitente\n",
        "msg['To'] = destinatario\n",
        "msg['Subject'] = \"Prueba desde Python\"\n",
        "\n",
        "cuerpo = \"Que hace mi pegooooo\"\n",
        "msg.attach(MIMEText(cuerpo, 'plain'))\n",
        "\n",
        "try:\n",
        "    # Servidor SMTP de Outlook\n",
        "    server = smtplib.SMTP(\"smtp-mail.outlook.com\", 587)\n",
        "    server.starttls()\n",
        "    server.login(username, password)\n",
        "    server.sendmail(remitente, destinatario, msg.as_string())\n",
        "    server.quit()\n",
        "    print(\"¡Correo enviado!\")\n",
        "except Exception as e:\n",
        "    print(f\"Error: {e}\")"
      ],
      "metadata": {
        "id": "iQsevGRZqMLF",
        "outputId": "78704d54-b45d-473a-8065-a7816bbe488e",
        "colab": {
          "base_uri": "https://localhost:8080/"
        }
      },
      "execution_count": 38,
      "outputs": [
        {
          "output_type": "stream",
          "name": "stdout",
          "text": [
            "Error: (535, b'5.7.139 Authentication unsuccessful, basic authentication is disabled. [BY5PR17CA0052.namprd17.prod.outlook.com 2025-09-11T07:49:13.945Z 08DDE9DCA1FC5071]')\n"
          ]
        }
      ]
    }
  ]
}