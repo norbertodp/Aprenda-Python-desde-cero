{
  "nbformat": 4,
  "nbformat_minor": 0,
  "metadata": {
    "colab": {
      "provenance": [],
      "authorship_tag": "ABX9TyOqzuu2ZBdHViIPFOxGGgb7",
      "include_colab_link": true
    },
    "kernelspec": {
      "name": "python3",
      "display_name": "Python 3"
    },
    "language_info": {
      "name": "python"
    }
  },
  "cells": [
    {
      "cell_type": "markdown",
      "metadata": {
        "id": "view-in-github",
        "colab_type": "text"
      },
      "source": [
        "<a href=\"https://colab.research.google.com/github/norbertodp/Aprenda-Python-desde-cero/blob/main/Aprende_Python_desde_cero.ipynb\" target=\"_parent\"><img src=\"https://colab.research.google.com/assets/colab-badge.svg\" alt=\"Open In Colab\"/></a>"
      ]
    },
    {
      "cell_type": "code",
      "source": [
        "import pandas as pd\n",
        "import numpy as np\n",
        "import matplotlib.pyplot as plt\n",
        "import seaborn as sns"
      ],
      "metadata": {
        "id": "ORGzvhc8jEqy"
      },
      "execution_count": 2,
      "outputs": []
    },
    {
      "cell_type": "markdown",
      "source": [
        "## **Modulo 1 Principios Basicos**"
      ],
      "metadata": {
        "id": "vn2UUR-32-3P"
      }
    },
    {
      "cell_type": "code",
      "execution_count": null,
      "metadata": {
        "colab": {
          "base_uri": "https://localhost:8080/"
        },
        "id": "Sq27kCy6hvzB",
        "outputId": "0145a094-fa90-4793-8a7a-0b411465dc6c"
      },
      "outputs": [
        {
          "output_type": "stream",
          "name": "stdout",
          "text": [
            "datos de la primera persona\n",
            "ingrese nombre del producto 1: arroz\n",
            "ingrese precio: 1500\n",
            "ingrese nombre del producto 2: lenteja\n",
            "ingrese precio: 700\n",
            "resultados del producto arroz. y del producto lenteja. :\n",
            "El precio del primer valor es mayor o igual a el precio del segundo valor\n",
            "True\n",
            "La suma de los dos prodcutos es:2200\n"
          ]
        }
      ],
      "source": [
        "# 1. Variables y operadores\n",
        "\n",
        "print (\"datos de la primera persona\")\n",
        "\n",
        "nombre1=input(\"ingrese nombre del producto 1: \")\n",
        "precio1=int(input(\"ingrese precio: \"))\n",
        "nombre2=input(\"ingrese nombre del producto 2: \")\n",
        "precio2=int(input(\"ingrese precio: \"))\n",
        "\n",
        "bonificacion=20\n",
        "\n",
        "precio_compra_total = precio1 + precio2\n",
        "comparar = precio1 >= precio2\n",
        "logico=(precio1<precio2 and precio1==precio2)\n",
        "\n",
        "cabecera=\"resultados del producto {0}. y del producto {1}. :\" # Funcion para concatenar facilmente\n",
        "\n",
        "print(cabecera.format(nombre1,nombre2))\n",
        "print(\"El precio del primer valor es mayor o igual a el precio del segundo valor\")\n",
        "print(comparar)\n",
        "print(\"La suma de los dos prodcutos es:\" + str(precio_compra_total))\n",
        "\n",
        "\n"
      ]
    },
    {
      "cell_type": "code",
      "source": [
        "# 2. Condicionales\n",
        "\n",
        "sueldo=int(input(\"ingrese sueldo: \"))\n",
        "\n",
        "if sueldo>3000:\n",
        "    print(\"el usuario debe pagar un % de impuestos\")\n",
        "if sueldo<=3000:\n",
        "    print(\"el usuario no debe pagar impuestos\")\n",
        "if sueldo>6000 and sueldo<10000:\n",
        "    print(\"el usuario debe pagar una bonificacion de 1000 euros\")\n",
        "\n",
        "\n",
        "sueldo1=int(input(\"ingrese sueldo1: \"))\n",
        "sueldo2=int(input(\"ingrese sueldo2: \"))\n",
        "\n",
        "\n",
        "if sueldo1>sueldo2:\n",
        "    print(\"el sueldo1 :\" + str(sueldo1) + \" es mayor que el sueldo 2 \" + str(sueldo2))\n",
        "elif sueldo1<=3000:\n",
        "    print(\"el sueldo1 :\" + str(sueldo1) + \" es menor que el sueldo 2 \" + str(sueldo2))\n",
        "\n",
        "\n",
        "\n"
      ],
      "metadata": {
        "colab": {
          "base_uri": "https://localhost:8080/"
        },
        "id": "2HKgdlNypRMF",
        "outputId": "cfd09bb8-5447-4afd-bd5d-e0ffc55f97bc"
      },
      "execution_count": 7,
      "outputs": [
        {
          "output_type": "stream",
          "name": "stdout",
          "text": [
            "ingrese sueldo: 3000\n",
            "el usuario no debe pagar impuestos\n",
            "ingrese sueldo1: 2000\n",
            "ingrese sueldo2: 4000\n",
            "el sueldo1 :2000 es menor que el sueldo 2 4000\n"
          ]
        }
      ]
    },
    {
      "cell_type": "code",
      "source": [
        "# 3. Condicionales anidadas\n",
        "\n",
        "nota1=int(input(\"ingrese nota1: \"))\n",
        "nota2=int(input(\"ingrese nota2: \"))\n",
        "nota3=int(input(\"ingrese nota3: \"))\n",
        "prom=(nota1+nota2+nota3)/3\n",
        "\n",
        "if prom>=4 and prom<=5:\n",
        "  print(\"aprobado\")\n",
        "else:\n",
        "  if prom>=3 and prom<=4:\n",
        "    print(\"regular\")\n",
        "  else:\n",
        "    print(\"reprobado\")\n",
        "\n",
        "\n",
        "\n"
      ],
      "metadata": {
        "colab": {
          "base_uri": "https://localhost:8080/"
        },
        "id": "qkIL4TxPriuy",
        "outputId": "3d2f015c-ec7f-448f-f982-f9419c102ec7"
      },
      "execution_count": 15,
      "outputs": [
        {
          "output_type": "stream",
          "name": "stdout",
          "text": [
            "ingrese nota1: 2\n",
            "ingrese nota2: 2\n",
            "ingrese nota3: 2\n",
            "reprobado\n"
          ]
        }
      ]
    },
    {
      "cell_type": "code",
      "source": [
        "# 4. Bucle while\n",
        "\n",
        "x=1\n",
        "suma=0\n",
        "while x<=5:\n",
        "    valor=int(input(\"Ingrese un valor:\"))\n",
        "    suma=suma+valor\n",
        "    x=x+1\n",
        "promedio=suma/5\n",
        "print(\"La suma de los 5 valores es\")\n",
        "print(suma)\n",
        "print(\"El promedio es\")\n",
        "print(promedio)\n",
        "\n",
        "\n",
        "#ejercicio 2\n",
        "cantidad=0\n",
        "x=1\n",
        "n=int(input(\"Cuantas piezas cargara:\"))\n",
        "while x<=n:\n",
        "    largo=float(input(\"Ingrese la medida de la pieza:\"))\n",
        "    if largo>=1.2 and largo<=1.3:\n",
        "        cantidad=cantidad+1\n",
        "    x=x+1\n",
        "print(\"La cantidad de piezas aptas son\")\n",
        "print(cantidad)\n",
        "\n",
        "\n",
        "\n"
      ],
      "metadata": {
        "colab": {
          "base_uri": "https://localhost:8080/"
        },
        "id": "UkRuKh_ItsM8",
        "outputId": "7ffac5aa-37e5-4b26-e061-68447f54f664"
      },
      "execution_count": 18,
      "outputs": [
        {
          "output_type": "stream",
          "name": "stdout",
          "text": [
            "Ingrese un valor:100\n",
            "Ingrese un valor:200\n",
            "Ingrese un valor:300\n",
            "Ingrese un valor:400\n",
            "Ingrese un valor:500\n",
            "La suma de los 5 valores es\n",
            "1500\n",
            "El promedio es\n",
            "300.0\n",
            "Cuantas piezas cargara:3\n",
            "Ingrese la medida de la pieza:1.2\n",
            "Ingrese la medida de la pieza:1.3\n",
            "Ingrese la medida de la pieza:2\n",
            "La cantidad de piezas aptas son\n",
            "2\n"
          ]
        }
      ]
    },
    {
      "cell_type": "code",
      "source": [
        "# 5. Bucle for\n",
        "\n",
        "# Realizar un programa que imprima en pantalla los números del 20 al 30.\n",
        "for x in range(20,31): # Sin indicar cuanto debe aumentar\n",
        "    print(x)\n",
        "\n",
        "for y in range (20,30,+2):# Indicando que aumente de 2 en 2 hasta llegar a 30\n",
        "    print(y)\n",
        "    '''La función range puede tener dos parámetros, el primero indica el valor inicial que tomará la variable x,\n",
        "    cada vuelta del for la variable x toma el valor siguiente hasta llegar al valor indicado por el segundo parámetro\n",
        "     de la función range menos uno.'''\n",
        "\n",
        "# lista en python\n",
        "mi_lista = ['Juan', 'Antonio', 'Pedro', 'Herminio']\n",
        "for nombre in mi_lista:\n",
        "    print (nombre)\n",
        "\n",
        "#Tupla en python\n",
        "mi_tupla = ('rosa', 'verde', 'celeste', 'amarillo')\n",
        "for color in mi_tupla:\n",
        "\tprint (color)\n",
        "\n",
        "\n",
        "\n",
        "\n",
        "\n",
        "\n",
        "\n",
        "\n"
      ],
      "metadata": {
        "id": "Q1EBLs9Sx--2"
      },
      "execution_count": null,
      "outputs": []
    },
    {
      "cell_type": "code",
      "source": [
        "# 6. Estructura datos listas\n",
        "\n",
        "lista=[]  # declaramos la lista\n",
        "for k in range(10):\n",
        "\tlista.append(input(\"introduce valor en lista:\"))  # añadimos los valores de la lista por teclado\n",
        "\n",
        "print(\"los elementos de la lista son:\"+str(lista))  # visualizamos los elementos de la lista\n",
        "valor=int(input(\"introduce el valor a modificar de la lista pon el indice:\"))  # índice a modificar\n",
        "nuevo=input (\"introduce el nuevo valor:\")  # valor nuevo de índice que se modifica\n",
        "lista[valor]=nuevo  # hacemos la modificación\n",
        "print(\"los elementos de la lista son:\"+str(lista)) # visualizamos los elemntos para comprobar la modificación\n",
        "valor=int(input(\"introduce el índice en el que se insertará el nuevo valor:\"))  # índice donde se inserta en nuevo valor\n",
        "nuevo=input (\"introduce el nuevo valor:\") # valor a insertar\n",
        "lista.insert(valor, nuevo)\n",
        "print(\"los elementos de la lista son:\"+str(lista)) # visualizamos los elemntos para comprobar la modificación\n",
        "nuevo=input (\"introduce el valor a eliminar:\") # valor a eliminar\n",
        "lista.remove(nuevo)   # eliminamos el valor\n",
        "print(\"los elementos de la lista son:\"+str(lista)) # visulaizamos lista\n",
        "nuevo=input (\"introduce el valor a buscar:\")\n",
        "resultado=(nuevo in lista)\n",
        "if (resultado):\n",
        "\tprint (\"existe este elemento y su índice es:\"+str(lista.index(nuevo)))\n",
        "else:\n",
        "\tprint(\"no exite es elemento\")\n",
        "\n",
        "\n",
        "\n",
        "\n"
      ],
      "metadata": {
        "id": "I58f_Emq1Hvy"
      },
      "execution_count": null,
      "outputs": []
    },
    {
      "cell_type": "markdown",
      "source": [
        "## **Modulo 2 Programacion Estructurada**"
      ],
      "metadata": {
        "id": "DY0nksZm31oo"
      }
    },
    {
      "cell_type": "code",
      "source": [
        "# Bonus Track aplicabilidad de listas, porque debo conocer el concepto de listas asi tenga la libreria Pandas\n",
        "\n",
        "# Creamos las listas con un for\n",
        "errores = [f\"error{i}\" for i in range(1, 11)]\n",
        "codigos = [i for i in range(1, 11)]\n",
        "descripciones = [chr(96 + i) for i in range(1, 11)]  # letras de la a a la j\n",
        "\n",
        "# Crear el DataFrame\n",
        "df = pd.DataFrame({\n",
        "    \"error\": errores,\n",
        "    \"codigo\": codigos,\n",
        "    \"descripcion\": descripciones\n",
        "})\n",
        "\n",
        "# Mostrar la tabla\n",
        "print(df)"
      ],
      "metadata": {
        "colab": {
          "base_uri": "https://localhost:8080/"
        },
        "id": "Le1-n0UO4BUD",
        "outputId": "a52920b4-6a2c-438c-9535-83a0cdc29c4b"
      },
      "execution_count": 28,
      "outputs": [
        {
          "output_type": "stream",
          "name": "stdout",
          "text": [
            "     error  codigo descripcion\n",
            "0   error1       1           a\n",
            "1   error2       2           b\n",
            "2   error3       3           c\n",
            "3   error4       4           d\n",
            "4   error5       5           e\n",
            "5   error6       6           f\n",
            "6   error7       7           g\n",
            "7   error8       8           h\n",
            "8   error9       9           i\n",
            "9  error10      10           j\n"
          ]
        }
      ]
    },
    {
      "cell_type": "code",
      "source": [
        "# converti la columna error a lista para luego recorrerla y encontrar un valor determinado\n",
        "\n",
        "lista_errores = df[\"error\"].tolist()\n",
        "\n",
        "\n",
        "for coderror in lista_errores:\n",
        "    if coderror==\"error8\":\n",
        "      print(coderror)\n",
        "      break\n",
        "else:\n",
        "    print(\"No se encontro error\")\n",
        "\n"
      ],
      "metadata": {
        "colab": {
          "base_uri": "https://localhost:8080/"
        },
        "id": "ZnDCv5ND64_U",
        "outputId": "c539dd98-1e92-4e12-ddbf-5f0e478ca204"
      },
      "execution_count": 36,
      "outputs": [
        {
          "output_type": "stream",
          "name": "stdout",
          "text": [
            "error8\n"
          ]
        }
      ]
    },
    {
      "cell_type": "code",
      "source": [
        "# Aca esta recorriendo directamente la columna en el DF\n",
        "\n",
        "for coderror in df[\"error\"]:\n",
        "    if coderror == \"error8\":\n",
        "        print(\"Encontrado:\", coderror)\n",
        "        break\n",
        "else:\n",
        "    print(\"No se encontró error\")"
      ],
      "metadata": {
        "colab": {
          "base_uri": "https://localhost:8080/"
        },
        "id": "4M4wHwii_AEw",
        "outputId": "2ba85606-7f8d-4bf6-dba6-04c735d42751"
      },
      "execution_count": 37,
      "outputs": [
        {
          "output_type": "stream",
          "name": "stdout",
          "text": [
            "Encontrado: error8\n"
          ]
        }
      ]
    },
    {
      "cell_type": "code",
      "source": [
        "# 7. Funciones\n",
        "\n",
        "\n",
        "def presentacion():\n",
        "    print(\"Programa para hacer operaciones aritméticas de suma y resta de dos valores.\")\n",
        "    print(\"*******************************\")\n",
        "\n",
        "def introducirDatos():\n",
        "    global valor1\n",
        "    global valor2\n",
        "    valor1=int(input(\"Ingrese el primer valor:\"))\n",
        "    valor2=int(input(\"Ingrese el segundo valor:\"))\n",
        "\n",
        "def suma(a,b):\n",
        "    suma= a + b\n",
        "    print(\"La suma de los dos valores es:\",suma)\n",
        "    return suma\n",
        "\n",
        "def resta():\n",
        "    resta=valor1-valor2\n",
        "    print(\"La resta de los dos valores es:\",resta)\n",
        "\n",
        "def finalizacion():\n",
        "    print(\"*******************************\")\n",
        "    print(\"Gracias por utilizar este programa\")\n",
        "\n",
        "\n",
        "# programa principal\n",
        "\n",
        "presentacion()\n",
        "introducirDatos()\n",
        "suma(7,8) # Enviando parametros\n",
        "resta()\n",
        "finalizacion()\n",
        "\n",
        "\n"
      ],
      "metadata": {
        "id": "g5hsFEdVWM8T",
        "outputId": "65d794e3-bb5d-4840-c53b-2e841df92b19",
        "colab": {
          "base_uri": "https://localhost:8080/"
        }
      },
      "execution_count": 3,
      "outputs": [
        {
          "output_type": "stream",
          "name": "stdout",
          "text": [
            "Programa para hacer operaciones aritméticas de suma y resta de dos valores.\n",
            "*******************************\n",
            "Ingrese el primer valor:6\n",
            "Ingrese el segundo valor:4\n",
            "La suma de los dos valores es: 15\n",
            "La resta de los dos valores es: 2\n",
            "*******************************\n",
            "Gracias por utilizar este programa\n"
          ]
        }
      ]
    },
    {
      "cell_type": "code",
      "source": [
        "# Funciones con parametros\n",
        "\n",
        "# EJEMPLO 1 PARAMETROS\n",
        "def mostrar_mensaje(mensaje):\n",
        "\t#funciones con parámetros simple\n",
        "\tprint(\"*************************************\")\n",
        "\tprint(mensaje)\n",
        "\tprint(\"*************************************\")\n",
        "def cargar_suma():\n",
        "\tvalor1=int(input(\"ingresa el primer valor:\"))\n",
        "\tvalor2=int(input(\"ingresa el segundo valor:\"))\n",
        "\tsuma=valor1+valor2\n",
        "\tprint(\"la suma es:\",suma)\n",
        "mostrar_mensaje(\"calculo de suma de dos valores\")\n",
        "cargar_suma()\n",
        "\n",
        "\n",
        "\n"
      ],
      "metadata": {
        "id": "r5Wsf2YBXV2X",
        "outputId": "99c73732-8d14-4495-b915-ad478dafc34b",
        "colab": {
          "base_uri": "https://localhost:8080/"
        }
      },
      "execution_count": 4,
      "outputs": [
        {
          "output_type": "stream",
          "name": "stdout",
          "text": [
            "*************************************\n",
            "calculo de suma de dos valores\n",
            "*************************************\n",
            "ingresa el primer valor:4\n",
            "ingresa el segundo valor:4\n",
            "la suma es: 8\n"
          ]
        }
      ]
    },
    {
      "cell_type": "code",
      "source": [
        "#EJEMPLO1\n",
        "#PARAMETROS TIPO LISTA\n",
        "def sumarizar(lista):\n",
        "\tsuma=0\n",
        "\tfor x in range(len(lista)):\n",
        "\t\tsuma=suma+lista[x]\n",
        "\treturn suma\n",
        "def mayor(lista):\n",
        "\tmay=lista[0]\n",
        "\tfor x in range(1,len(lista)):\n",
        "\t\tif lista[x]>may:\n",
        "\t\t\tmay=lista[x]\n",
        "\treturn may\n",
        "def menor(lista):\n",
        "\tmen=lista[0]\n",
        "\tfor x in range(1,len(lista)):\n",
        "\t\tif lista[x]<men:\n",
        "\t\t\tmen=lista[x]\n",
        "\treturn men\n",
        "listaValores=[10, 56, 23, 34, 190, 298]\n",
        "print(\"lista completa\")\n",
        "print(listaValores)\n",
        "print(\"suma de los elementos:\", sumarizar(listaValores))\n",
        "print(\"el numero mayor:\", mayor(listaValores))\n",
        "print(\"el numero menor:\", menor(listaValores))"
      ],
      "metadata": {
        "id": "Odi8GNFfYND0",
        "outputId": "87728f1b-e5fc-42a3-f762-6a19d227e1fb",
        "colab": {
          "base_uri": "https://localhost:8080/"
        }
      },
      "execution_count": 5,
      "outputs": [
        {
          "output_type": "stream",
          "name": "stdout",
          "text": [
            "lista completa\n",
            "[10, 56, 23, 34, 190, 298]\n",
            "suma de los elementos: 611\n",
            "el numero mayor: 298\n",
            "el numero menor: 10\n"
          ]
        }
      ]
    },
    {
      "cell_type": "code",
      "source": [
        "#EJEMPLO 1\n",
        "#PARAMETROS POR DEFECTO U OMISION\n",
        "def saludar(nombre, mensaje=\"hola\"):\n",
        "\tprint (mensaje, nombre)\n",
        "saludar(\"carlos blanco\", \"este es el cambio\")\n"
      ],
      "metadata": {
        "id": "U3TGPh1gZLPs",
        "outputId": "1134ae0d-15b5-4805-cdbe-16ebbf07ed4c",
        "colab": {
          "base_uri": "https://localhost:8080/"
        }
      },
      "execution_count": 1,
      "outputs": [
        {
          "output_type": "stream",
          "name": "stdout",
          "text": [
            "hola carlos blanco\n"
          ]
        }
      ]
    },
    {
      "cell_type": "code",
      "source": [
        " #EJEMPLO 2 RETORNO DE DATOS\n",
        "#retorno de datos se devuelven a la llamada de la función que recoge los datos\n",
        "def retorno_superficie(lado):\n",
        "\tsup=lado*lado\n",
        "\treturn sup  # con la instrucción return se retorna los datos de la función\n",
        "va=int(input(\"introduce el valor del cuadrado:\"))\n",
        "superficie=retorno_superficie(va) # aqui recogemos los datos que enviamos y lo almacenamos en la variable superficie\n",
        "print(\"al algoritmo del cuadrado es:\", superficie)\n"
      ],
      "metadata": {
        "id": "b9cN3t4oZvVS",
        "outputId": "cedb1c3e-dbc3-47ee-8133-5b946e1c5ff6",
        "colab": {
          "base_uri": "https://localhost:8080/"
        }
      },
      "execution_count": 12,
      "outputs": [
        {
          "output_type": "stream",
          "name": "stdout",
          "text": [
            "introduce el valor del cuadrado:4\n",
            "al algoritmo del cuadrado es: 16\n"
          ]
        }
      ]
    },
    {
      "cell_type": "code",
      "source": [
        "#EJEMPLO2\n",
        "# PARAMETRO ARBITRARIOS\n",
        "def sumar(v1, v2, *lista):\n",
        "\tsuma=v1+v2\n",
        "\tfor x in range(len(lista)):\n",
        "\t\tsuma=suma+lista[x]\n",
        "\treturn suma\n",
        "print(\"Suma de dos valores\")\n",
        "print(sumar(1,2))\n",
        "print(\"suma de cuatro valores\")\n",
        "print(sumar(1,2,3,4))\n",
        "print(\"suma de diez valores\")\n",
        "print(sumar(1,2,3,4,5,6,7,8,9,10))\n",
        "\n"
      ],
      "metadata": {
        "id": "C6Dj85_dao47",
        "outputId": "2417530c-fa38-4a4f-eadc-ece8316c1708",
        "colab": {
          "base_uri": "https://localhost:8080/"
        }
      },
      "execution_count": 13,
      "outputs": [
        {
          "output_type": "stream",
          "name": "stdout",
          "text": [
            "Suma de dos valores\n",
            "3\n",
            "suma de cuatro valores\n",
            "10\n",
            "suma de diez valores\n",
            "55\n"
          ]
        }
      ]
    },
    {
      "cell_type": "code",
      "source": [
        "#EJEMPLO2\n",
        "#RETORNO DE LISTA\n",
        "def cargar_lista():\n",
        "\tli=[]\n",
        "\tfor x in range(5):\n",
        "\t\tvalor=int(input(\"introduce valor:\"))\n",
        "\t\tli.append(valor)\n",
        "\treturn li\n",
        "def imprimir_mayor(li):\n",
        "\tprint(\"valores de la lista mayores a 10:\")\n",
        "\tfor x  in range(len(li)):\n",
        "\t\tif li[x]>10:\n",
        "\t\t\tprint(li[x])\n",
        "lista=cargar_lista()\n",
        "imprimir_mayor(lista)"
      ],
      "metadata": {
        "id": "4bHHm16RbgAb",
        "outputId": "0b00eb08-50e4-492f-f0c6-37a633d63320",
        "colab": {
          "base_uri": "https://localhost:8080/"
        }
      },
      "execution_count": 15,
      "outputs": [
        {
          "output_type": "stream",
          "name": "stdout",
          "text": [
            "introduce valor:3\n",
            "introduce valor:6\n",
            "introduce valor:9\n",
            "introduce valor:10\n",
            "introduce valor:12\n",
            "valores de la lista mayores a 10:\n",
            "12\n"
          ]
        }
      ]
    }
  ]
}