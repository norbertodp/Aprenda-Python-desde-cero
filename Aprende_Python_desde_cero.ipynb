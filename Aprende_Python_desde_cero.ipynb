{
  "nbformat": 4,
  "nbformat_minor": 0,
  "metadata": {
    "colab": {
      "provenance": [],
      "authorship_tag": "ABX9TyO0EZzGlOnY3c0AX3NgJw2g",
      "include_colab_link": true
    },
    "kernelspec": {
      "name": "python3",
      "display_name": "Python 3"
    },
    "language_info": {
      "name": "python"
    }
  },
  "cells": [
    {
      "cell_type": "markdown",
      "metadata": {
        "id": "view-in-github",
        "colab_type": "text"
      },
      "source": [
        "<a href=\"https://colab.research.google.com/github/norbertodp/Aprenda-Python-desde-cero/blob/main/Aprende_Python_desde_cero.ipynb\" target=\"_parent\"><img src=\"https://colab.research.google.com/assets/colab-badge.svg\" alt=\"Open In Colab\"/></a>"
      ]
    },
    {
      "cell_type": "code",
      "source": [
        "import pandas as pd\n",
        "import numpy as np\n",
        "import matplotlib.pyplot as plt\n",
        "import seaborn as sns"
      ],
      "metadata": {
        "id": "ORGzvhc8jEqy"
      },
      "execution_count": 2,
      "outputs": []
    },
    {
      "cell_type": "markdown",
      "source": [
        "## **Modulo 1 Principios Basicos**"
      ],
      "metadata": {
        "id": "vn2UUR-32-3P"
      }
    },
    {
      "cell_type": "code",
      "execution_count": null,
      "metadata": {
        "colab": {
          "base_uri": "https://localhost:8080/"
        },
        "id": "Sq27kCy6hvzB",
        "outputId": "0145a094-fa90-4793-8a7a-0b411465dc6c"
      },
      "outputs": [
        {
          "output_type": "stream",
          "name": "stdout",
          "text": [
            "datos de la primera persona\n",
            "ingrese nombre del producto 1: arroz\n",
            "ingrese precio: 1500\n",
            "ingrese nombre del producto 2: lenteja\n",
            "ingrese precio: 700\n",
            "resultados del producto arroz. y del producto lenteja. :\n",
            "El precio del primer valor es mayor o igual a el precio del segundo valor\n",
            "True\n",
            "La suma de los dos prodcutos es:2200\n"
          ]
        }
      ],
      "source": [
        "# 1. Variables y operadores\n",
        "\n",
        "print (\"datos de la primera persona\")\n",
        "\n",
        "nombre1=input(\"ingrese nombre del producto 1: \")\n",
        "precio1=int(input(\"ingrese precio: \"))\n",
        "nombre2=input(\"ingrese nombre del producto 2: \")\n",
        "precio2=int(input(\"ingrese precio: \"))\n",
        "\n",
        "bonificacion=20\n",
        "\n",
        "precio_compra_total = precio1 + precio2\n",
        "comparar = precio1 >= precio2\n",
        "logico=(precio1<precio2 and precio1==precio2)\n",
        "\n",
        "cabecera=\"resultados del producto {0}. y del producto {1}. :\" # Funcion para concatenar facilmente\n",
        "\n",
        "print(cabecera.format(nombre1,nombre2))\n",
        "print(\"El precio del primer valor es mayor o igual a el precio del segundo valor\")\n",
        "print(comparar)\n",
        "print(\"La suma de los dos prodcutos es:\" + str(precio_compra_total))\n",
        "\n",
        "\n"
      ]
    },
    {
      "cell_type": "code",
      "source": [
        "# 2. Condicionales\n",
        "\n",
        "sueldo=int(input(\"ingrese sueldo: \"))\n",
        "\n",
        "if sueldo>3000:\n",
        "    print(\"el usuario debe pagar un % de impuestos\")\n",
        "if sueldo<=3000:\n",
        "    print(\"el usuario no debe pagar impuestos\")\n",
        "if sueldo>6000 and sueldo<10000:\n",
        "    print(\"el usuario debe pagar una bonificacion de 1000 euros\")\n",
        "\n",
        "\n",
        "sueldo1=int(input(\"ingrese sueldo1: \"))\n",
        "sueldo2=int(input(\"ingrese sueldo2: \"))\n",
        "\n",
        "\n",
        "if sueldo1>sueldo2:\n",
        "    print(\"el sueldo1 :\" + str(sueldo1) + \" es mayor que el sueldo 2 \" + str(sueldo2))\n",
        "elif sueldo1<=3000:\n",
        "    print(\"el sueldo1 :\" + str(sueldo1) + \" es menor que el sueldo 2 \" + str(sueldo2))\n",
        "\n",
        "\n",
        "\n"
      ],
      "metadata": {
        "id": "2HKgdlNypRMF",
        "outputId": "cfd09bb8-5447-4afd-bd5d-e0ffc55f97bc",
        "colab": {
          "base_uri": "https://localhost:8080/"
        }
      },
      "execution_count": 7,
      "outputs": [
        {
          "output_type": "stream",
          "name": "stdout",
          "text": [
            "ingrese sueldo: 3000\n",
            "el usuario no debe pagar impuestos\n",
            "ingrese sueldo1: 2000\n",
            "ingrese sueldo2: 4000\n",
            "el sueldo1 :2000 es menor que el sueldo 2 4000\n"
          ]
        }
      ]
    },
    {
      "cell_type": "code",
      "source": [
        "# 3. Condicionales anidadas\n",
        "\n",
        "nota1=int(input(\"ingrese nota1: \"))\n",
        "nota2=int(input(\"ingrese nota2: \"))\n",
        "nota3=int(input(\"ingrese nota3: \"))\n",
        "prom=(nota1+nota2+nota3)/3\n",
        "\n",
        "if prom>=4 and prom<=5:\n",
        "  print(\"aprobado\")\n",
        "else:\n",
        "  if prom>=3 and prom<=4:\n",
        "    print(\"regular\")\n",
        "  else:\n",
        "    print(\"reprobado\")\n",
        "\n",
        "\n",
        "\n"
      ],
      "metadata": {
        "id": "qkIL4TxPriuy",
        "outputId": "3d2f015c-ec7f-448f-f982-f9419c102ec7",
        "colab": {
          "base_uri": "https://localhost:8080/"
        }
      },
      "execution_count": 15,
      "outputs": [
        {
          "output_type": "stream",
          "name": "stdout",
          "text": [
            "ingrese nota1: 2\n",
            "ingrese nota2: 2\n",
            "ingrese nota3: 2\n",
            "reprobado\n"
          ]
        }
      ]
    },
    {
      "cell_type": "code",
      "source": [
        "# 4. Bucle while\n",
        "\n",
        "x=1\n",
        "suma=0\n",
        "while x<=5:\n",
        "    valor=int(input(\"Ingrese un valor:\"))\n",
        "    suma=suma+valor\n",
        "    x=x+1\n",
        "promedio=suma/5\n",
        "print(\"La suma de los 5 valores es\")\n",
        "print(suma)\n",
        "print(\"El promedio es\")\n",
        "print(promedio)\n",
        "\n",
        "\n",
        "#ejercicio 2\n",
        "cantidad=0\n",
        "x=1\n",
        "n=int(input(\"Cuantas piezas cargara:\"))\n",
        "while x<=n:\n",
        "    largo=float(input(\"Ingrese la medida de la pieza:\"))\n",
        "    if largo>=1.2 and largo<=1.3:\n",
        "        cantidad=cantidad+1\n",
        "    x=x+1\n",
        "print(\"La cantidad de piezas aptas son\")\n",
        "print(cantidad)\n",
        "\n",
        "\n",
        "\n"
      ],
      "metadata": {
        "id": "UkRuKh_ItsM8",
        "outputId": "7ffac5aa-37e5-4b26-e061-68447f54f664",
        "colab": {
          "base_uri": "https://localhost:8080/"
        }
      },
      "execution_count": 18,
      "outputs": [
        {
          "output_type": "stream",
          "name": "stdout",
          "text": [
            "Ingrese un valor:100\n",
            "Ingrese un valor:200\n",
            "Ingrese un valor:300\n",
            "Ingrese un valor:400\n",
            "Ingrese un valor:500\n",
            "La suma de los 5 valores es\n",
            "1500\n",
            "El promedio es\n",
            "300.0\n",
            "Cuantas piezas cargara:3\n",
            "Ingrese la medida de la pieza:1.2\n",
            "Ingrese la medida de la pieza:1.3\n",
            "Ingrese la medida de la pieza:2\n",
            "La cantidad de piezas aptas son\n",
            "2\n"
          ]
        }
      ]
    },
    {
      "cell_type": "code",
      "source": [
        "# 5. Bucle for\n",
        "\n",
        "# Realizar un programa que imprima en pantalla los números del 20 al 30.\n",
        "for x in range(20,31): # Sin indicar cuanto debe aumentar\n",
        "    print(x)\n",
        "\n",
        "for y in range (20,30,+2):# Indicando que aumente de 2 en 2 hasta llegar a 30\n",
        "    print(y)\n",
        "    '''La función range puede tener dos parámetros, el primero indica el valor inicial que tomará la variable x,\n",
        "    cada vuelta del for la variable x toma el valor siguiente hasta llegar al valor indicado por el segundo parámetro\n",
        "     de la función range menos uno.'''\n",
        "\n",
        "# lista en python\n",
        "mi_lista = ['Juan', 'Antonio', 'Pedro', 'Herminio']\n",
        "for nombre in mi_lista:\n",
        "    print (nombre)\n",
        "\n",
        "#Tupla en python\n",
        "mi_tupla = ('rosa', 'verde', 'celeste', 'amarillo')\n",
        "for color in mi_tupla:\n",
        "\tprint (color)\n",
        "\n",
        "\n",
        "\n",
        "\n",
        "\n",
        "\n",
        "\n",
        "\n"
      ],
      "metadata": {
        "id": "Q1EBLs9Sx--2"
      },
      "execution_count": null,
      "outputs": []
    },
    {
      "cell_type": "code",
      "source": [
        "# 6. Estructura datos listas\n",
        "\n",
        "lista=[]  # declaramos la lista\n",
        "for k in range(10):\n",
        "\tlista.append(input(\"introduce valor en lista:\"))  # añadimos los valores de la lista por teclado\n",
        "\n",
        "print(\"los elementos de la lista son:\"+str(lista))  # visualizamos los elementos de la lista\n",
        "valor=int(input(\"introduce el valor a modificar de la lista pon el indice:\"))  # índice a modificar\n",
        "nuevo=input (\"introduce el nuevo valor:\")  # valor nuevo de índice que se modifica\n",
        "lista[valor]=nuevo  # hacemos la modificación\n",
        "print(\"los elementos de la lista son:\"+str(lista)) # visualizamos los elemntos para comprobar la modificación\n",
        "valor=int(input(\"introduce el índice en el que se insertará el nuevo valor:\"))  # índice donde se inserta en nuevo valor\n",
        "nuevo=input (\"introduce el nuevo valor:\") # valor a insertar\n",
        "lista.insert(valor, nuevo)\n",
        "print(\"los elementos de la lista son:\"+str(lista)) # visualizamos los elemntos para comprobar la modificación\n",
        "nuevo=input (\"introduce el valor a eliminar:\") # valor a eliminar\n",
        "lista.remove(nuevo)   # eliminamos el valor\n",
        "print(\"los elementos de la lista son:\"+str(lista)) # visulaizamos lista\n",
        "nuevo=input (\"introduce el valor a buscar:\")\n",
        "resultado=(nuevo in lista)\n",
        "if (resultado):\n",
        "\tprint (\"existe este elemento y su índice es:\"+str(lista.index(nuevo)))\n",
        "else:\n",
        "\tprint(\"no exite es elemento\")\n",
        "\n",
        "\n",
        "\n",
        "\n"
      ],
      "metadata": {
        "id": "I58f_Emq1Hvy",
        "outputId": "37d1c5d3-f5ea-4cf1-d39c-da05dc8646f2",
        "colab": {
          "base_uri": "https://localhost:8080/"
        }
      },
      "execution_count": 27,
      "outputs": [
        {
          "output_type": "stream",
          "name": "stdout",
          "text": [
            "introduce valor en lista:1\n",
            "introduce valor en lista:2\n",
            "introduce valor en lista:3\n",
            "introduce valor en lista:4\n",
            "introduce valor en lista:5\n",
            "introduce valor en lista:6\n",
            "introduce valor en lista:7\n",
            "introduce valor en lista:8\n",
            "introduce valor en lista:9\n",
            "introduce valor en lista:10\n",
            "los elementos de la lista son:['1', '2', '3', '4', '5', '6', '7', '8', '9', '10']\n",
            "introduce el valor a modificar de la lista pon el indice:0\n",
            "introduce el nuevo valor:0\n",
            "los elementos de la lista son:['0', '2', '3', '4', '5', '6', '7', '8', '9', '10']\n",
            "introduce el índice en el que se insertará el nuevo valor:10\n",
            "introduce el nuevo valor:11\n",
            "los elementos de la lista son:['0', '2', '3', '4', '5', '6', '7', '8', '9', '10', '11']\n",
            "introduce el valor a eliminar:11\n",
            "los elementos de la lista son:['0', '2', '3', '4', '5', '6', '7', '8', '9', '10']\n",
            "introduce el valor a buscar:8\n",
            "existe este elemento y su índice es:7\n"
          ]
        }
      ]
    }
  ]
}