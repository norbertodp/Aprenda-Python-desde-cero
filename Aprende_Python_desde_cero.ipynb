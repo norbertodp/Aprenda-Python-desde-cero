{
  "nbformat": 4,
  "nbformat_minor": 0,
  "metadata": {
    "colab": {
      "provenance": [],
      "authorship_tag": "ABX9TyNH0itlBS5E6NVPAqY7j9Qe",
      "include_colab_link": true
    },
    "kernelspec": {
      "name": "python3",
      "display_name": "Python 3"
    },
    "language_info": {
      "name": "python"
    }
  },
  "cells": [
    {
      "cell_type": "markdown",
      "metadata": {
        "id": "view-in-github",
        "colab_type": "text"
      },
      "source": [
        "<a href=\"https://colab.research.google.com/github/norbertodp/Aprenda-Python-desde-cero/blob/main/Aprende_Python_desde_cero.ipynb\" target=\"_parent\"><img src=\"https://colab.research.google.com/assets/colab-badge.svg\" alt=\"Open In Colab\"/></a>"
      ]
    },
    {
      "cell_type": "code",
      "source": [
        "import pandas as pd\n",
        "import numpy as np\n",
        "import matplotlib.pyplot as plt\n",
        "import seaborn as sns"
      ],
      "metadata": {
        "id": "ORGzvhc8jEqy"
      },
      "execution_count": null,
      "outputs": []
    },
    {
      "cell_type": "code",
      "execution_count": 8,
      "metadata": {
        "colab": {
          "base_uri": "https://localhost:8080/"
        },
        "id": "Sq27kCy6hvzB",
        "outputId": "0145a094-fa90-4793-8a7a-0b411465dc6c"
      },
      "outputs": [
        {
          "output_type": "stream",
          "name": "stdout",
          "text": [
            "datos de la primera persona\n",
            "ingrese nombre del producto 1: arroz\n",
            "ingrese precio: 1500\n",
            "ingrese nombre del producto 2: lenteja\n",
            "ingrese precio: 700\n",
            "resultados del producto arroz. y del producto lenteja. :\n",
            "El precio del primer valor es mayor o igual a el precio del segundo valor\n",
            "True\n",
            "La suma de los dos prodcutos es:2200\n"
          ]
        }
      ],
      "source": [
        "print (\"datos de la primera persona\")\n",
        "\n",
        "nombre1=input(\"ingrese nombre del producto 1: \")\n",
        "precio1=int(input(\"ingrese precio: \"))\n",
        "nombre2=input(\"ingrese nombre del producto 2: \")\n",
        "precio2=int(input(\"ingrese precio: \"))\n",
        "\n",
        "bonificacion=20\n",
        "\n",
        "precio_compra_total = precio1 + precio2\n",
        "comparar = precio1 >= precio2\n",
        "logico=(precio1<precio2 and precio1==precio2)\n",
        "\n",
        "cabecera=\"resultados del producto {0}. y del producto {1}. :\" # Funcion para concatenar facilmente\n",
        "\n",
        "print(cabecera.format(nombre1,nombre2))\n",
        "print(\"El precio del primer valor es mayor o igual a el precio del segundo valor\")\n",
        "print(comparar)\n",
        "print(\"La suma de los dos prodcutos es:\" + str(precio_compra_total))\n",
        "\n",
        "\n"
      ]
    }
  ]
}